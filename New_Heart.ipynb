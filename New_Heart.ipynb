{
  "cells": [
    {
      "cell_type": "code",
      "execution_count": null,
      "metadata": {
        "colab": {
          "base_uri": "https://localhost:8080/"
        },
        "id": "nrAkXdSlajLc",
        "outputId": "44935290-b76a-405a-f622-a78a10870091"
      },
      "outputs": [
        {
          "name": "stdout",
          "output_type": "stream",
          "text": [
            "\n",
            "All libraries imported succesfully.\n"
          ]
        }
      ],
      "source": [
        "import pandas as pd\n",
        "import numpy as np\n",
        "import seaborn as sns\n",
        "import matplotlib.pyplot as plt\n",
        "import warnings\n",
        "from termcolor import colored\n",
        "\n",
        "from sklearn.preprocessing import MinMaxScaler\n",
        "from sklearn.model_selection import train_test_split, GridSearchCV, cross_val_score, KFold\n",
        "from sklearn.ensemble import RandomForestClassifier\n",
        "from sklearn import metrics\n",
        "from sklearn.linear_model import LogisticRegression\n",
        "from sklearn.svm import SVC\n",
        "from sklearn.tree import DecisionTreeClassifier\n",
        "from sklearn.neighbors import KNeighborsClassifier\n",
        "from sklearn.naive_bayes import GaussianNB\n",
        "\n",
        "import warnings\n",
        "warnings.filterwarnings(\"ignore\")\n",
        "\n",
        "print(colored('\\nAll libraries imported succesfully.', 'blue'))"
      ]
    },
    {
      "cell_type": "code",
      "execution_count": null,
      "metadata": {
        "id": "cx2OMuFQdIoy"
      },
      "outputs": [],
      "source": [
        "df = pd.read_csv('https://drive.google.com/uc?id=1626HJwBvkF-FfL1yvRiuRAOUv_GxdhhP')"
      ]
    },
    {
      "cell_type": "code",
      "execution_count": null,
      "metadata": {
        "colab": {
          "base_uri": "https://localhost:8080/",
          "height": 206
        },
        "id": "Ge7Lsy9kdqqH",
        "outputId": "4291edfd-d34f-4203-f6fd-8caeef00aa4d"
      },
      "outputs": [
        {
          "data": {
            "application/vnd.google.colaboratory.intrinsic+json": {
              "summary": "{\n  \"name\": \"df\",\n  \"rows\": 1000,\n  \"fields\": [\n    {\n      \"column\": \"patientid\",\n      \"properties\": {\n        \"dtype\": \"number\",\n        \"std\": 2895904,\n        \"min\": 103368,\n        \"max\": 9990855,\n        \"num_unique_values\": 1000,\n        \"samples\": [\n          5125568,\n          7527664,\n          7585452\n        ],\n        \"semantic_type\": \"\",\n        \"description\": \"\"\n      }\n    },\n    {\n      \"column\": \"age\",\n      \"properties\": {\n        \"dtype\": \"number\",\n        \"std\": 17,\n        \"min\": 20,\n        \"max\": 80,\n        \"num_unique_values\": 61,\n        \"samples\": [\n          53,\n          24,\n          60\n        ],\n        \"semantic_type\": \"\",\n        \"description\": \"\"\n      }\n    },\n    {\n      \"column\": \"gender\",\n      \"properties\": {\n        \"dtype\": \"number\",\n        \"std\": 0,\n        \"min\": 0,\n        \"max\": 1,\n        \"num_unique_values\": 2,\n        \"samples\": [\n          0,\n          1\n        ],\n        \"semantic_type\": \"\",\n        \"description\": \"\"\n      }\n    },\n    {\n      \"column\": \"chestpain\",\n      \"properties\": {\n        \"dtype\": \"number\",\n        \"std\": 0,\n        \"min\": 0,\n        \"max\": 3,\n        \"num_unique_values\": 4,\n        \"samples\": [\n          0,\n          3\n        ],\n        \"semantic_type\": \"\",\n        \"description\": \"\"\n      }\n    },\n    {\n      \"column\": \"restingBP\",\n      \"properties\": {\n        \"dtype\": \"number\",\n        \"std\": 29,\n        \"min\": 94,\n        \"max\": 200,\n        \"num_unique_values\": 95,\n        \"samples\": [\n          154,\n          191\n        ],\n        \"semantic_type\": \"\",\n        \"description\": \"\"\n      }\n    },\n    {\n      \"column\": \"serumcholestrol\",\n      \"properties\": {\n        \"dtype\": \"number\",\n        \"std\": 132,\n        \"min\": 0,\n        \"max\": 602,\n        \"num_unique_values\": 344,\n        \"samples\": [\n          470,\n          302\n        ],\n        \"semantic_type\": \"\",\n        \"description\": \"\"\n      }\n    },\n    {\n      \"column\": \"fastingbloodsugar\",\n      \"properties\": {\n        \"dtype\": \"number\",\n        \"std\": 0,\n        \"min\": 0,\n        \"max\": 1,\n        \"num_unique_values\": 2,\n        \"samples\": [\n          1,\n          0\n        ],\n        \"semantic_type\": \"\",\n        \"description\": \"\"\n      }\n    },\n    {\n      \"column\": \"restingrelectro\",\n      \"properties\": {\n        \"dtype\": \"number\",\n        \"std\": 0,\n        \"min\": 0,\n        \"max\": 2,\n        \"num_unique_values\": 3,\n        \"samples\": [\n          1,\n          0\n        ],\n        \"semantic_type\": \"\",\n        \"description\": \"\"\n      }\n    },\n    {\n      \"column\": \"maxheartrate\",\n      \"properties\": {\n        \"dtype\": \"number\",\n        \"std\": 34,\n        \"min\": 71,\n        \"max\": 202,\n        \"num_unique_values\": 129,\n        \"samples\": [\n          167,\n          108\n        ],\n        \"semantic_type\": \"\",\n        \"description\": \"\"\n      }\n    },\n    {\n      \"column\": \"exerciseangia\",\n      \"properties\": {\n        \"dtype\": \"number\",\n        \"std\": 0,\n        \"min\": 0,\n        \"max\": 1,\n        \"num_unique_values\": 2,\n        \"samples\": [\n          1,\n          0\n        ],\n        \"semantic_type\": \"\",\n        \"description\": \"\"\n      }\n    },\n    {\n      \"column\": \"oldpeak\",\n      \"properties\": {\n        \"dtype\": \"number\",\n        \"std\": 1.7207532367256217,\n        \"min\": 0.0,\n        \"max\": 6.2,\n        \"num_unique_values\": 63,\n        \"samples\": [\n          6.2,\n          4.0\n        ],\n        \"semantic_type\": \"\",\n        \"description\": \"\"\n      }\n    },\n    {\n      \"column\": \"slope\",\n      \"properties\": {\n        \"dtype\": \"number\",\n        \"std\": 1,\n        \"min\": 0,\n        \"max\": 3,\n        \"num_unique_values\": 4,\n        \"samples\": [\n          1,\n          0\n        ],\n        \"semantic_type\": \"\",\n        \"description\": \"\"\n      }\n    },\n    {\n      \"column\": \"noofmajorvessels\",\n      \"properties\": {\n        \"dtype\": \"number\",\n        \"std\": 0,\n        \"min\": 0,\n        \"max\": 3,\n        \"num_unique_values\": 4,\n        \"samples\": [\n          1,\n          2\n        ],\n        \"semantic_type\": \"\",\n        \"description\": \"\"\n      }\n    },\n    {\n      \"column\": \"target\",\n      \"properties\": {\n        \"dtype\": \"number\",\n        \"std\": 0,\n        \"min\": 0,\n        \"max\": 1,\n        \"num_unique_values\": 2,\n        \"samples\": [\n          0,\n          1\n        ],\n        \"semantic_type\": \"\",\n        \"description\": \"\"\n      }\n    }\n  ]\n}",
              "type": "dataframe",
              "variable_name": "df"
            },
            "text/html": [
              "\n",
              "  <div id=\"df-aaee824a-dc46-456f-a29f-1be2c4c06009\" class=\"colab-df-container\">\n",
              "    <div>\n",
              "<style scoped>\n",
              "    .dataframe tbody tr th:only-of-type {\n",
              "        vertical-align: middle;\n",
              "    }\n",
              "\n",
              "    .dataframe tbody tr th {\n",
              "        vertical-align: top;\n",
              "    }\n",
              "\n",
              "    .dataframe thead th {\n",
              "        text-align: right;\n",
              "    }\n",
              "</style>\n",
              "<table border=\"1\" class=\"dataframe\">\n",
              "  <thead>\n",
              "    <tr style=\"text-align: right;\">\n",
              "      <th></th>\n",
              "      <th>patientid</th>\n",
              "      <th>age</th>\n",
              "      <th>gender</th>\n",
              "      <th>chestpain</th>\n",
              "      <th>restingBP</th>\n",
              "      <th>serumcholestrol</th>\n",
              "      <th>fastingbloodsugar</th>\n",
              "      <th>restingrelectro</th>\n",
              "      <th>maxheartrate</th>\n",
              "      <th>exerciseangia</th>\n",
              "      <th>oldpeak</th>\n",
              "      <th>slope</th>\n",
              "      <th>noofmajorvessels</th>\n",
              "      <th>target</th>\n",
              "    </tr>\n",
              "  </thead>\n",
              "  <tbody>\n",
              "    <tr>\n",
              "      <th>0</th>\n",
              "      <td>103368</td>\n",
              "      <td>53</td>\n",
              "      <td>1</td>\n",
              "      <td>2</td>\n",
              "      <td>171</td>\n",
              "      <td>0</td>\n",
              "      <td>0</td>\n",
              "      <td>1</td>\n",
              "      <td>147</td>\n",
              "      <td>0</td>\n",
              "      <td>5.3</td>\n",
              "      <td>3</td>\n",
              "      <td>3</td>\n",
              "      <td>1</td>\n",
              "    </tr>\n",
              "    <tr>\n",
              "      <th>1</th>\n",
              "      <td>119250</td>\n",
              "      <td>40</td>\n",
              "      <td>1</td>\n",
              "      <td>0</td>\n",
              "      <td>94</td>\n",
              "      <td>229</td>\n",
              "      <td>0</td>\n",
              "      <td>1</td>\n",
              "      <td>115</td>\n",
              "      <td>0</td>\n",
              "      <td>3.7</td>\n",
              "      <td>1</td>\n",
              "      <td>1</td>\n",
              "      <td>0</td>\n",
              "    </tr>\n",
              "    <tr>\n",
              "      <th>2</th>\n",
              "      <td>119372</td>\n",
              "      <td>49</td>\n",
              "      <td>1</td>\n",
              "      <td>2</td>\n",
              "      <td>133</td>\n",
              "      <td>142</td>\n",
              "      <td>0</td>\n",
              "      <td>0</td>\n",
              "      <td>202</td>\n",
              "      <td>1</td>\n",
              "      <td>5.0</td>\n",
              "      <td>1</td>\n",
              "      <td>0</td>\n",
              "      <td>0</td>\n",
              "    </tr>\n",
              "    <tr>\n",
              "      <th>3</th>\n",
              "      <td>132514</td>\n",
              "      <td>43</td>\n",
              "      <td>1</td>\n",
              "      <td>0</td>\n",
              "      <td>138</td>\n",
              "      <td>295</td>\n",
              "      <td>1</td>\n",
              "      <td>1</td>\n",
              "      <td>153</td>\n",
              "      <td>0</td>\n",
              "      <td>3.2</td>\n",
              "      <td>2</td>\n",
              "      <td>2</td>\n",
              "      <td>1</td>\n",
              "    </tr>\n",
              "    <tr>\n",
              "      <th>4</th>\n",
              "      <td>146211</td>\n",
              "      <td>31</td>\n",
              "      <td>1</td>\n",
              "      <td>1</td>\n",
              "      <td>199</td>\n",
              "      <td>0</td>\n",
              "      <td>0</td>\n",
              "      <td>2</td>\n",
              "      <td>136</td>\n",
              "      <td>0</td>\n",
              "      <td>5.3</td>\n",
              "      <td>3</td>\n",
              "      <td>2</td>\n",
              "      <td>1</td>\n",
              "    </tr>\n",
              "  </tbody>\n",
              "</table>\n",
              "</div>\n",
              "    <div class=\"colab-df-buttons\">\n",
              "\n",
              "  <div class=\"colab-df-container\">\n",
              "    <button class=\"colab-df-convert\" onclick=\"convertToInteractive('df-aaee824a-dc46-456f-a29f-1be2c4c06009')\"\n",
              "            title=\"Convert this dataframe to an interactive table.\"\n",
              "            style=\"display:none;\">\n",
              "\n",
              "  <svg xmlns=\"http://www.w3.org/2000/svg\" height=\"24px\" viewBox=\"0 -960 960 960\">\n",
              "    <path d=\"M120-120v-720h720v720H120Zm60-500h600v-160H180v160Zm220 220h160v-160H400v160Zm0 220h160v-160H400v160ZM180-400h160v-160H180v160Zm440 0h160v-160H620v160ZM180-180h160v-160H180v160Zm440 0h160v-160H620v160Z\"/>\n",
              "  </svg>\n",
              "    </button>\n",
              "\n",
              "  <style>\n",
              "    .colab-df-container {\n",
              "      display:flex;\n",
              "      gap: 12px;\n",
              "    }\n",
              "\n",
              "    .colab-df-convert {\n",
              "      background-color: #E8F0FE;\n",
              "      border: none;\n",
              "      border-radius: 50%;\n",
              "      cursor: pointer;\n",
              "      display: none;\n",
              "      fill: #1967D2;\n",
              "      height: 32px;\n",
              "      padding: 0 0 0 0;\n",
              "      width: 32px;\n",
              "    }\n",
              "\n",
              "    .colab-df-convert:hover {\n",
              "      background-color: #E2EBFA;\n",
              "      box-shadow: 0px 1px 2px rgba(60, 64, 67, 0.3), 0px 1px 3px 1px rgba(60, 64, 67, 0.15);\n",
              "      fill: #174EA6;\n",
              "    }\n",
              "\n",
              "    .colab-df-buttons div {\n",
              "      margin-bottom: 4px;\n",
              "    }\n",
              "\n",
              "    [theme=dark] .colab-df-convert {\n",
              "      background-color: #3B4455;\n",
              "      fill: #D2E3FC;\n",
              "    }\n",
              "\n",
              "    [theme=dark] .colab-df-convert:hover {\n",
              "      background-color: #434B5C;\n",
              "      box-shadow: 0px 1px 3px 1px rgba(0, 0, 0, 0.15);\n",
              "      filter: drop-shadow(0px 1px 2px rgba(0, 0, 0, 0.3));\n",
              "      fill: #FFFFFF;\n",
              "    }\n",
              "  </style>\n",
              "\n",
              "    <script>\n",
              "      const buttonEl =\n",
              "        document.querySelector('#df-aaee824a-dc46-456f-a29f-1be2c4c06009 button.colab-df-convert');\n",
              "      buttonEl.style.display =\n",
              "        google.colab.kernel.accessAllowed ? 'block' : 'none';\n",
              "\n",
              "      async function convertToInteractive(key) {\n",
              "        const element = document.querySelector('#df-aaee824a-dc46-456f-a29f-1be2c4c06009');\n",
              "        const dataTable =\n",
              "          await google.colab.kernel.invokeFunction('convertToInteractive',\n",
              "                                                    [key], {});\n",
              "        if (!dataTable) return;\n",
              "\n",
              "        const docLinkHtml = 'Like what you see? Visit the ' +\n",
              "          '<a target=\"_blank\" href=https://colab.research.google.com/notebooks/data_table.ipynb>data table notebook</a>'\n",
              "          + ' to learn more about interactive tables.';\n",
              "        element.innerHTML = '';\n",
              "        dataTable['output_type'] = 'display_data';\n",
              "        await google.colab.output.renderOutput(dataTable, element);\n",
              "        const docLink = document.createElement('div');\n",
              "        docLink.innerHTML = docLinkHtml;\n",
              "        element.appendChild(docLink);\n",
              "      }\n",
              "    </script>\n",
              "  </div>\n",
              "\n",
              "\n",
              "    <div id=\"df-c99d23c2-3769-47d9-9f50-fd2b8554c51b\">\n",
              "      <button class=\"colab-df-quickchart\" onclick=\"quickchart('df-c99d23c2-3769-47d9-9f50-fd2b8554c51b')\"\n",
              "                title=\"Suggest charts\"\n",
              "                style=\"display:none;\">\n",
              "\n",
              "<svg xmlns=\"http://www.w3.org/2000/svg\" height=\"24px\"viewBox=\"0 0 24 24\"\n",
              "     width=\"24px\">\n",
              "    <g>\n",
              "        <path d=\"M19 3H5c-1.1 0-2 .9-2 2v14c0 1.1.9 2 2 2h14c1.1 0 2-.9 2-2V5c0-1.1-.9-2-2-2zM9 17H7v-7h2v7zm4 0h-2V7h2v10zm4 0h-2v-4h2v4z\"/>\n",
              "    </g>\n",
              "</svg>\n",
              "      </button>\n",
              "\n",
              "<style>\n",
              "  .colab-df-quickchart {\n",
              "      --bg-color: #E8F0FE;\n",
              "      --fill-color: #1967D2;\n",
              "      --hover-bg-color: #E2EBFA;\n",
              "      --hover-fill-color: #174EA6;\n",
              "      --disabled-fill-color: #AAA;\n",
              "      --disabled-bg-color: #DDD;\n",
              "  }\n",
              "\n",
              "  [theme=dark] .colab-df-quickchart {\n",
              "      --bg-color: #3B4455;\n",
              "      --fill-color: #D2E3FC;\n",
              "      --hover-bg-color: #434B5C;\n",
              "      --hover-fill-color: #FFFFFF;\n",
              "      --disabled-bg-color: #3B4455;\n",
              "      --disabled-fill-color: #666;\n",
              "  }\n",
              "\n",
              "  .colab-df-quickchart {\n",
              "    background-color: var(--bg-color);\n",
              "    border: none;\n",
              "    border-radius: 50%;\n",
              "    cursor: pointer;\n",
              "    display: none;\n",
              "    fill: var(--fill-color);\n",
              "    height: 32px;\n",
              "    padding: 0;\n",
              "    width: 32px;\n",
              "  }\n",
              "\n",
              "  .colab-df-quickchart:hover {\n",
              "    background-color: var(--hover-bg-color);\n",
              "    box-shadow: 0 1px 2px rgba(60, 64, 67, 0.3), 0 1px 3px 1px rgba(60, 64, 67, 0.15);\n",
              "    fill: var(--button-hover-fill-color);\n",
              "  }\n",
              "\n",
              "  .colab-df-quickchart-complete:disabled,\n",
              "  .colab-df-quickchart-complete:disabled:hover {\n",
              "    background-color: var(--disabled-bg-color);\n",
              "    fill: var(--disabled-fill-color);\n",
              "    box-shadow: none;\n",
              "  }\n",
              "\n",
              "  .colab-df-spinner {\n",
              "    border: 2px solid var(--fill-color);\n",
              "    border-color: transparent;\n",
              "    border-bottom-color: var(--fill-color);\n",
              "    animation:\n",
              "      spin 1s steps(1) infinite;\n",
              "  }\n",
              "\n",
              "  @keyframes spin {\n",
              "    0% {\n",
              "      border-color: transparent;\n",
              "      border-bottom-color: var(--fill-color);\n",
              "      border-left-color: var(--fill-color);\n",
              "    }\n",
              "    20% {\n",
              "      border-color: transparent;\n",
              "      border-left-color: var(--fill-color);\n",
              "      border-top-color: var(--fill-color);\n",
              "    }\n",
              "    30% {\n",
              "      border-color: transparent;\n",
              "      border-left-color: var(--fill-color);\n",
              "      border-top-color: var(--fill-color);\n",
              "      border-right-color: var(--fill-color);\n",
              "    }\n",
              "    40% {\n",
              "      border-color: transparent;\n",
              "      border-right-color: var(--fill-color);\n",
              "      border-top-color: var(--fill-color);\n",
              "    }\n",
              "    60% {\n",
              "      border-color: transparent;\n",
              "      border-right-color: var(--fill-color);\n",
              "    }\n",
              "    80% {\n",
              "      border-color: transparent;\n",
              "      border-right-color: var(--fill-color);\n",
              "      border-bottom-color: var(--fill-color);\n",
              "    }\n",
              "    90% {\n",
              "      border-color: transparent;\n",
              "      border-bottom-color: var(--fill-color);\n",
              "    }\n",
              "  }\n",
              "</style>\n",
              "\n",
              "      <script>\n",
              "        async function quickchart(key) {\n",
              "          const quickchartButtonEl =\n",
              "            document.querySelector('#' + key + ' button');\n",
              "          quickchartButtonEl.disabled = true;  // To prevent multiple clicks.\n",
              "          quickchartButtonEl.classList.add('colab-df-spinner');\n",
              "          try {\n",
              "            const charts = await google.colab.kernel.invokeFunction(\n",
              "                'suggestCharts', [key], {});\n",
              "          } catch (error) {\n",
              "            console.error('Error during call to suggestCharts:', error);\n",
              "          }\n",
              "          quickchartButtonEl.classList.remove('colab-df-spinner');\n",
              "          quickchartButtonEl.classList.add('colab-df-quickchart-complete');\n",
              "        }\n",
              "        (() => {\n",
              "          let quickchartButtonEl =\n",
              "            document.querySelector('#df-c99d23c2-3769-47d9-9f50-fd2b8554c51b button');\n",
              "          quickchartButtonEl.style.display =\n",
              "            google.colab.kernel.accessAllowed ? 'block' : 'none';\n",
              "        })();\n",
              "      </script>\n",
              "    </div>\n",
              "\n",
              "    </div>\n",
              "  </div>\n"
            ],
            "text/plain": [
              "   patientid  age  gender  chestpain  restingBP  serumcholestrol  \\\n",
              "0     103368   53       1          2        171                0   \n",
              "1     119250   40       1          0         94              229   \n",
              "2     119372   49       1          2        133              142   \n",
              "3     132514   43       1          0        138              295   \n",
              "4     146211   31       1          1        199                0   \n",
              "\n",
              "   fastingbloodsugar  restingrelectro  maxheartrate  exerciseangia  oldpeak  \\\n",
              "0                  0                1           147              0      5.3   \n",
              "1                  0                1           115              0      3.7   \n",
              "2                  0                0           202              1      5.0   \n",
              "3                  1                1           153              0      3.2   \n",
              "4                  0                2           136              0      5.3   \n",
              "\n",
              "   slope  noofmajorvessels  target  \n",
              "0      3                 3       1  \n",
              "1      1                 1       0  \n",
              "2      1                 0       0  \n",
              "3      2                 2       1  \n",
              "4      3                 2       1  "
            ]
          },
          "execution_count": 156,
          "metadata": {},
          "output_type": "execute_result"
        }
      ],
      "source": [
        "df.head()"
      ]
    },
    {
      "cell_type": "code",
      "execution_count": null,
      "metadata": {
        "colab": {
          "base_uri": "https://localhost:8080/"
        },
        "id": "vXeR8HcGcxGB",
        "outputId": "35296e96-9f4a-4fed-8f2c-bbba048610e8"
      },
      "outputs": [
        {
          "name": "stdout",
          "output_type": "stream",
          "text": [
            "<class 'pandas.core.frame.DataFrame'>\n",
            "RangeIndex: 1000 entries, 0 to 999\n",
            "Data columns (total 14 columns):\n",
            " #   Column             Non-Null Count  Dtype  \n",
            "---  ------             --------------  -----  \n",
            " 0   patientid          1000 non-null   int64  \n",
            " 1   age                1000 non-null   int64  \n",
            " 2   gender             1000 non-null   int64  \n",
            " 3   chestpain          1000 non-null   int64  \n",
            " 4   restingBP          1000 non-null   int64  \n",
            " 5   serumcholestrol    1000 non-null   int64  \n",
            " 6   fastingbloodsugar  1000 non-null   int64  \n",
            " 7   restingrelectro    1000 non-null   int64  \n",
            " 8   maxheartrate       1000 non-null   int64  \n",
            " 9   exerciseangia      1000 non-null   int64  \n",
            " 10  oldpeak            1000 non-null   float64\n",
            " 11  slope              1000 non-null   int64  \n",
            " 12  noofmajorvessels   1000 non-null   int64  \n",
            " 13  target             1000 non-null   int64  \n",
            "dtypes: float64(1), int64(13)\n",
            "memory usage: 109.5 KB\n"
          ]
        }
      ],
      "source": [
        "df.info()"
      ]
    },
    {
      "cell_type": "code",
      "execution_count": null,
      "metadata": {
        "colab": {
          "base_uri": "https://localhost:8080/",
          "height": 488
        },
        "id": "6bOMObshfKE9",
        "outputId": "f1dc4426-176b-4f01-de81-d8625ff0426d"
      },
      "outputs": [
        {
          "data": {
            "text/html": [
              "<style type=\"text/css\">\n",
              "#T_44932_row0_col0, #T_44932_row1_col0, #T_44932_row1_col1, #T_44932_row1_col2, #T_44932_row1_col3, #T_44932_row1_col4, #T_44932_row1_col5, #T_44932_row1_col6, #T_44932_row1_col7, #T_44932_row2_col0, #T_44932_row2_col1, #T_44932_row2_col2, #T_44932_row2_col3, #T_44932_row2_col4, #T_44932_row2_col5, #T_44932_row2_col6, #T_44932_row2_col7, #T_44932_row3_col0, #T_44932_row3_col1, #T_44932_row3_col2, #T_44932_row3_col3, #T_44932_row3_col4, #T_44932_row3_col5, #T_44932_row3_col6, #T_44932_row3_col7, #T_44932_row4_col0, #T_44932_row4_col1, #T_44932_row4_col2, #T_44932_row4_col3, #T_44932_row4_col4, #T_44932_row4_col5, #T_44932_row4_col6, #T_44932_row4_col7, #T_44932_row5_col0, #T_44932_row5_col1, #T_44932_row5_col2, #T_44932_row5_col3, #T_44932_row5_col4, #T_44932_row5_col5, #T_44932_row5_col6, #T_44932_row5_col7, #T_44932_row6_col0, #T_44932_row6_col1, #T_44932_row6_col2, #T_44932_row6_col3, #T_44932_row6_col4, #T_44932_row6_col5, #T_44932_row6_col6, #T_44932_row6_col7, #T_44932_row7_col0, #T_44932_row7_col1, #T_44932_row7_col2, #T_44932_row7_col3, #T_44932_row7_col4, #T_44932_row7_col5, #T_44932_row7_col6, #T_44932_row7_col7, #T_44932_row8_col0, #T_44932_row8_col1, #T_44932_row8_col2, #T_44932_row8_col3, #T_44932_row8_col4, #T_44932_row8_col5, #T_44932_row8_col6, #T_44932_row8_col7, #T_44932_row9_col0, #T_44932_row9_col1, #T_44932_row9_col2, #T_44932_row9_col3, #T_44932_row9_col4, #T_44932_row9_col5, #T_44932_row9_col6, #T_44932_row9_col7, #T_44932_row10_col0, #T_44932_row10_col1, #T_44932_row10_col2, #T_44932_row10_col3, #T_44932_row10_col4, #T_44932_row10_col5, #T_44932_row10_col6, #T_44932_row10_col7, #T_44932_row11_col0, #T_44932_row11_col1, #T_44932_row11_col2, #T_44932_row11_col3, #T_44932_row11_col4, #T_44932_row11_col5, #T_44932_row11_col6, #T_44932_row11_col7, #T_44932_row12_col0, #T_44932_row12_col1, #T_44932_row12_col2, #T_44932_row12_col3, #T_44932_row12_col4, #T_44932_row12_col5, #T_44932_row12_col6, #T_44932_row12_col7, #T_44932_row13_col0, #T_44932_row13_col1, #T_44932_row13_col2, #T_44932_row13_col3, #T_44932_row13_col4, #T_44932_row13_col5, #T_44932_row13_col6, #T_44932_row13_col7 {\n",
              "  background-color: #fff7fb;\n",
              "  color: #000000;\n",
              "}\n",
              "#T_44932_row0_col1, #T_44932_row0_col2, #T_44932_row0_col3, #T_44932_row0_col4, #T_44932_row0_col5, #T_44932_row0_col6, #T_44932_row0_col7 {\n",
              "  background-color: #023858;\n",
              "  color: #f1f1f1;\n",
              "}\n",
              "</style>\n",
              "<table id=\"T_44932\" class=\"dataframe\">\n",
              "  <thead>\n",
              "    <tr>\n",
              "      <th class=\"blank level0\" >&nbsp;</th>\n",
              "      <th id=\"T_44932_level0_col0\" class=\"col_heading level0 col0\" >count</th>\n",
              "      <th id=\"T_44932_level0_col1\" class=\"col_heading level0 col1\" >mean</th>\n",
              "      <th id=\"T_44932_level0_col2\" class=\"col_heading level0 col2\" >std</th>\n",
              "      <th id=\"T_44932_level0_col3\" class=\"col_heading level0 col3\" >min</th>\n",
              "      <th id=\"T_44932_level0_col4\" class=\"col_heading level0 col4\" >25%</th>\n",
              "      <th id=\"T_44932_level0_col5\" class=\"col_heading level0 col5\" >50%</th>\n",
              "      <th id=\"T_44932_level0_col6\" class=\"col_heading level0 col6\" >75%</th>\n",
              "      <th id=\"T_44932_level0_col7\" class=\"col_heading level0 col7\" >max</th>\n",
              "    </tr>\n",
              "  </thead>\n",
              "  <tbody>\n",
              "    <tr>\n",
              "      <th id=\"T_44932_level0_row0\" class=\"row_heading level0 row0\" >patientid</th>\n",
              "      <td id=\"T_44932_row0_col0\" class=\"data row0 col0\" >1000.000000</td>\n",
              "      <td id=\"T_44932_row0_col1\" class=\"data row0 col1\" >5048704.412000</td>\n",
              "      <td id=\"T_44932_row0_col2\" class=\"data row0 col2\" >2895904.500488</td>\n",
              "      <td id=\"T_44932_row0_col3\" class=\"data row0 col3\" >103368.000000</td>\n",
              "      <td id=\"T_44932_row0_col4\" class=\"data row0 col4\" >2536439.500000</td>\n",
              "      <td id=\"T_44932_row0_col5\" class=\"data row0 col5\" >4952508.500000</td>\n",
              "      <td id=\"T_44932_row0_col6\" class=\"data row0 col6\" >7681877.000000</td>\n",
              "      <td id=\"T_44932_row0_col7\" class=\"data row0 col7\" >9990855.000000</td>\n",
              "    </tr>\n",
              "    <tr>\n",
              "      <th id=\"T_44932_level0_row1\" class=\"row_heading level0 row1\" >age</th>\n",
              "      <td id=\"T_44932_row1_col0\" class=\"data row1 col0\" >1000.000000</td>\n",
              "      <td id=\"T_44932_row1_col1\" class=\"data row1 col1\" >49.242000</td>\n",
              "      <td id=\"T_44932_row1_col2\" class=\"data row1 col2\" >17.864730</td>\n",
              "      <td id=\"T_44932_row1_col3\" class=\"data row1 col3\" >20.000000</td>\n",
              "      <td id=\"T_44932_row1_col4\" class=\"data row1 col4\" >34.000000</td>\n",
              "      <td id=\"T_44932_row1_col5\" class=\"data row1 col5\" >49.000000</td>\n",
              "      <td id=\"T_44932_row1_col6\" class=\"data row1 col6\" >64.250000</td>\n",
              "      <td id=\"T_44932_row1_col7\" class=\"data row1 col7\" >80.000000</td>\n",
              "    </tr>\n",
              "    <tr>\n",
              "      <th id=\"T_44932_level0_row2\" class=\"row_heading level0 row2\" >gender</th>\n",
              "      <td id=\"T_44932_row2_col0\" class=\"data row2 col0\" >1000.000000</td>\n",
              "      <td id=\"T_44932_row2_col1\" class=\"data row2 col1\" >0.765000</td>\n",
              "      <td id=\"T_44932_row2_col2\" class=\"data row2 col2\" >0.424211</td>\n",
              "      <td id=\"T_44932_row2_col3\" class=\"data row2 col3\" >0.000000</td>\n",
              "      <td id=\"T_44932_row2_col4\" class=\"data row2 col4\" >1.000000</td>\n",
              "      <td id=\"T_44932_row2_col5\" class=\"data row2 col5\" >1.000000</td>\n",
              "      <td id=\"T_44932_row2_col6\" class=\"data row2 col6\" >1.000000</td>\n",
              "      <td id=\"T_44932_row2_col7\" class=\"data row2 col7\" >1.000000</td>\n",
              "    </tr>\n",
              "    <tr>\n",
              "      <th id=\"T_44932_level0_row3\" class=\"row_heading level0 row3\" >chestpain</th>\n",
              "      <td id=\"T_44932_row3_col0\" class=\"data row3 col0\" >1000.000000</td>\n",
              "      <td id=\"T_44932_row3_col1\" class=\"data row3 col1\" >0.980000</td>\n",
              "      <td id=\"T_44932_row3_col2\" class=\"data row3 col2\" >0.953157</td>\n",
              "      <td id=\"T_44932_row3_col3\" class=\"data row3 col3\" >0.000000</td>\n",
              "      <td id=\"T_44932_row3_col4\" class=\"data row3 col4\" >0.000000</td>\n",
              "      <td id=\"T_44932_row3_col5\" class=\"data row3 col5\" >1.000000</td>\n",
              "      <td id=\"T_44932_row3_col6\" class=\"data row3 col6\" >2.000000</td>\n",
              "      <td id=\"T_44932_row3_col7\" class=\"data row3 col7\" >3.000000</td>\n",
              "    </tr>\n",
              "    <tr>\n",
              "      <th id=\"T_44932_level0_row4\" class=\"row_heading level0 row4\" >restingBP</th>\n",
              "      <td id=\"T_44932_row4_col0\" class=\"data row4 col0\" >1000.000000</td>\n",
              "      <td id=\"T_44932_row4_col1\" class=\"data row4 col1\" >151.747000</td>\n",
              "      <td id=\"T_44932_row4_col2\" class=\"data row4 col2\" >29.965228</td>\n",
              "      <td id=\"T_44932_row4_col3\" class=\"data row4 col3\" >94.000000</td>\n",
              "      <td id=\"T_44932_row4_col4\" class=\"data row4 col4\" >129.000000</td>\n",
              "      <td id=\"T_44932_row4_col5\" class=\"data row4 col5\" >147.000000</td>\n",
              "      <td id=\"T_44932_row4_col6\" class=\"data row4 col6\" >181.000000</td>\n",
              "      <td id=\"T_44932_row4_col7\" class=\"data row4 col7\" >200.000000</td>\n",
              "    </tr>\n",
              "    <tr>\n",
              "      <th id=\"T_44932_level0_row5\" class=\"row_heading level0 row5\" >serumcholestrol</th>\n",
              "      <td id=\"T_44932_row5_col0\" class=\"data row5 col0\" >1000.000000</td>\n",
              "      <td id=\"T_44932_row5_col1\" class=\"data row5 col1\" >311.447000</td>\n",
              "      <td id=\"T_44932_row5_col2\" class=\"data row5 col2\" >132.443801</td>\n",
              "      <td id=\"T_44932_row5_col3\" class=\"data row5 col3\" >0.000000</td>\n",
              "      <td id=\"T_44932_row5_col4\" class=\"data row5 col4\" >235.750000</td>\n",
              "      <td id=\"T_44932_row5_col5\" class=\"data row5 col5\" >318.000000</td>\n",
              "      <td id=\"T_44932_row5_col6\" class=\"data row5 col6\" >404.250000</td>\n",
              "      <td id=\"T_44932_row5_col7\" class=\"data row5 col7\" >602.000000</td>\n",
              "    </tr>\n",
              "    <tr>\n",
              "      <th id=\"T_44932_level0_row6\" class=\"row_heading level0 row6\" >fastingbloodsugar</th>\n",
              "      <td id=\"T_44932_row6_col0\" class=\"data row6 col0\" >1000.000000</td>\n",
              "      <td id=\"T_44932_row6_col1\" class=\"data row6 col1\" >0.296000</td>\n",
              "      <td id=\"T_44932_row6_col2\" class=\"data row6 col2\" >0.456719</td>\n",
              "      <td id=\"T_44932_row6_col3\" class=\"data row6 col3\" >0.000000</td>\n",
              "      <td id=\"T_44932_row6_col4\" class=\"data row6 col4\" >0.000000</td>\n",
              "      <td id=\"T_44932_row6_col5\" class=\"data row6 col5\" >0.000000</td>\n",
              "      <td id=\"T_44932_row6_col6\" class=\"data row6 col6\" >1.000000</td>\n",
              "      <td id=\"T_44932_row6_col7\" class=\"data row6 col7\" >1.000000</td>\n",
              "    </tr>\n",
              "    <tr>\n",
              "      <th id=\"T_44932_level0_row7\" class=\"row_heading level0 row7\" >restingrelectro</th>\n",
              "      <td id=\"T_44932_row7_col0\" class=\"data row7 col0\" >1000.000000</td>\n",
              "      <td id=\"T_44932_row7_col1\" class=\"data row7 col1\" >0.748000</td>\n",
              "      <td id=\"T_44932_row7_col2\" class=\"data row7 col2\" >0.770123</td>\n",
              "      <td id=\"T_44932_row7_col3\" class=\"data row7 col3\" >0.000000</td>\n",
              "      <td id=\"T_44932_row7_col4\" class=\"data row7 col4\" >0.000000</td>\n",
              "      <td id=\"T_44932_row7_col5\" class=\"data row7 col5\" >1.000000</td>\n",
              "      <td id=\"T_44932_row7_col6\" class=\"data row7 col6\" >1.000000</td>\n",
              "      <td id=\"T_44932_row7_col7\" class=\"data row7 col7\" >2.000000</td>\n",
              "    </tr>\n",
              "    <tr>\n",
              "      <th id=\"T_44932_level0_row8\" class=\"row_heading level0 row8\" >maxheartrate</th>\n",
              "      <td id=\"T_44932_row8_col0\" class=\"data row8 col0\" >1000.000000</td>\n",
              "      <td id=\"T_44932_row8_col1\" class=\"data row8 col1\" >145.477000</td>\n",
              "      <td id=\"T_44932_row8_col2\" class=\"data row8 col2\" >34.190268</td>\n",
              "      <td id=\"T_44932_row8_col3\" class=\"data row8 col3\" >71.000000</td>\n",
              "      <td id=\"T_44932_row8_col4\" class=\"data row8 col4\" >119.750000</td>\n",
              "      <td id=\"T_44932_row8_col5\" class=\"data row8 col5\" >146.000000</td>\n",
              "      <td id=\"T_44932_row8_col6\" class=\"data row8 col6\" >175.000000</td>\n",
              "      <td id=\"T_44932_row8_col7\" class=\"data row8 col7\" >202.000000</td>\n",
              "    </tr>\n",
              "    <tr>\n",
              "      <th id=\"T_44932_level0_row9\" class=\"row_heading level0 row9\" >exerciseangia</th>\n",
              "      <td id=\"T_44932_row9_col0\" class=\"data row9 col0\" >1000.000000</td>\n",
              "      <td id=\"T_44932_row9_col1\" class=\"data row9 col1\" >0.498000</td>\n",
              "      <td id=\"T_44932_row9_col2\" class=\"data row9 col2\" >0.500246</td>\n",
              "      <td id=\"T_44932_row9_col3\" class=\"data row9 col3\" >0.000000</td>\n",
              "      <td id=\"T_44932_row9_col4\" class=\"data row9 col4\" >0.000000</td>\n",
              "      <td id=\"T_44932_row9_col5\" class=\"data row9 col5\" >0.000000</td>\n",
              "      <td id=\"T_44932_row9_col6\" class=\"data row9 col6\" >1.000000</td>\n",
              "      <td id=\"T_44932_row9_col7\" class=\"data row9 col7\" >1.000000</td>\n",
              "    </tr>\n",
              "    <tr>\n",
              "      <th id=\"T_44932_level0_row10\" class=\"row_heading level0 row10\" >oldpeak</th>\n",
              "      <td id=\"T_44932_row10_col0\" class=\"data row10 col0\" >1000.000000</td>\n",
              "      <td id=\"T_44932_row10_col1\" class=\"data row10 col1\" >2.707700</td>\n",
              "      <td id=\"T_44932_row10_col2\" class=\"data row10 col2\" >1.720753</td>\n",
              "      <td id=\"T_44932_row10_col3\" class=\"data row10 col3\" >0.000000</td>\n",
              "      <td id=\"T_44932_row10_col4\" class=\"data row10 col4\" >1.300000</td>\n",
              "      <td id=\"T_44932_row10_col5\" class=\"data row10 col5\" >2.400000</td>\n",
              "      <td id=\"T_44932_row10_col6\" class=\"data row10 col6\" >4.100000</td>\n",
              "      <td id=\"T_44932_row10_col7\" class=\"data row10 col7\" >6.200000</td>\n",
              "    </tr>\n",
              "    <tr>\n",
              "      <th id=\"T_44932_level0_row11\" class=\"row_heading level0 row11\" >slope</th>\n",
              "      <td id=\"T_44932_row11_col0\" class=\"data row11 col0\" >1000.000000</td>\n",
              "      <td id=\"T_44932_row11_col1\" class=\"data row11 col1\" >1.540000</td>\n",
              "      <td id=\"T_44932_row11_col2\" class=\"data row11 col2\" >1.003697</td>\n",
              "      <td id=\"T_44932_row11_col3\" class=\"data row11 col3\" >0.000000</td>\n",
              "      <td id=\"T_44932_row11_col4\" class=\"data row11 col4\" >1.000000</td>\n",
              "      <td id=\"T_44932_row11_col5\" class=\"data row11 col5\" >2.000000</td>\n",
              "      <td id=\"T_44932_row11_col6\" class=\"data row11 col6\" >2.000000</td>\n",
              "      <td id=\"T_44932_row11_col7\" class=\"data row11 col7\" >3.000000</td>\n",
              "    </tr>\n",
              "    <tr>\n",
              "      <th id=\"T_44932_level0_row12\" class=\"row_heading level0 row12\" >noofmajorvessels</th>\n",
              "      <td id=\"T_44932_row12_col0\" class=\"data row12 col0\" >1000.000000</td>\n",
              "      <td id=\"T_44932_row12_col1\" class=\"data row12 col1\" >1.222000</td>\n",
              "      <td id=\"T_44932_row12_col2\" class=\"data row12 col2\" >0.977585</td>\n",
              "      <td id=\"T_44932_row12_col3\" class=\"data row12 col3\" >0.000000</td>\n",
              "      <td id=\"T_44932_row12_col4\" class=\"data row12 col4\" >0.000000</td>\n",
              "      <td id=\"T_44932_row12_col5\" class=\"data row12 col5\" >1.000000</td>\n",
              "      <td id=\"T_44932_row12_col6\" class=\"data row12 col6\" >2.000000</td>\n",
              "      <td id=\"T_44932_row12_col7\" class=\"data row12 col7\" >3.000000</td>\n",
              "    </tr>\n",
              "    <tr>\n",
              "      <th id=\"T_44932_level0_row13\" class=\"row_heading level0 row13\" >target</th>\n",
              "      <td id=\"T_44932_row13_col0\" class=\"data row13 col0\" >1000.000000</td>\n",
              "      <td id=\"T_44932_row13_col1\" class=\"data row13 col1\" >0.580000</td>\n",
              "      <td id=\"T_44932_row13_col2\" class=\"data row13 col2\" >0.493805</td>\n",
              "      <td id=\"T_44932_row13_col3\" class=\"data row13 col3\" >0.000000</td>\n",
              "      <td id=\"T_44932_row13_col4\" class=\"data row13 col4\" >0.000000</td>\n",
              "      <td id=\"T_44932_row13_col5\" class=\"data row13 col5\" >1.000000</td>\n",
              "      <td id=\"T_44932_row13_col6\" class=\"data row13 col6\" >1.000000</td>\n",
              "      <td id=\"T_44932_row13_col7\" class=\"data row13 col7\" >1.000000</td>\n",
              "    </tr>\n",
              "  </tbody>\n",
              "</table>\n"
            ],
            "text/plain": [
              "<pandas.io.formats.style.Styler at 0x7f9886601d90>"
            ]
          },
          "execution_count": 158,
          "metadata": {},
          "output_type": "execute_result"
        }
      ],
      "source": [
        "df.describe().T.style.background_gradient(axis=0)"
      ]
    },
    {
      "cell_type": "code",
      "execution_count": null,
      "metadata": {
        "colab": {
          "base_uri": "https://localhost:8080/",
          "height": 523
        },
        "id": "YFtxKOrDlptz",
        "outputId": "b9b3e773-e901-44d7-fc1e-4c4375e4c219"
      },
      "outputs": [
        {
          "data": {
            "text/html": [
              "<div>\n",
              "<style scoped>\n",
              "    .dataframe tbody tr th:only-of-type {\n",
              "        vertical-align: middle;\n",
              "    }\n",
              "\n",
              "    .dataframe tbody tr th {\n",
              "        vertical-align: top;\n",
              "    }\n",
              "\n",
              "    .dataframe thead th {\n",
              "        text-align: right;\n",
              "    }\n",
              "</style>\n",
              "<table border=\"1\" class=\"dataframe\">\n",
              "  <thead>\n",
              "    <tr style=\"text-align: right;\">\n",
              "      <th></th>\n",
              "      <th>0</th>\n",
              "    </tr>\n",
              "  </thead>\n",
              "  <tbody>\n",
              "    <tr>\n",
              "      <th>patientid</th>\n",
              "      <td>0</td>\n",
              "    </tr>\n",
              "    <tr>\n",
              "      <th>age</th>\n",
              "      <td>0</td>\n",
              "    </tr>\n",
              "    <tr>\n",
              "      <th>gender</th>\n",
              "      <td>0</td>\n",
              "    </tr>\n",
              "    <tr>\n",
              "      <th>chestpain</th>\n",
              "      <td>0</td>\n",
              "    </tr>\n",
              "    <tr>\n",
              "      <th>restingBP</th>\n",
              "      <td>0</td>\n",
              "    </tr>\n",
              "    <tr>\n",
              "      <th>serumcholestrol</th>\n",
              "      <td>0</td>\n",
              "    </tr>\n",
              "    <tr>\n",
              "      <th>fastingbloodsugar</th>\n",
              "      <td>0</td>\n",
              "    </tr>\n",
              "    <tr>\n",
              "      <th>restingrelectro</th>\n",
              "      <td>0</td>\n",
              "    </tr>\n",
              "    <tr>\n",
              "      <th>maxheartrate</th>\n",
              "      <td>0</td>\n",
              "    </tr>\n",
              "    <tr>\n",
              "      <th>exerciseangia</th>\n",
              "      <td>0</td>\n",
              "    </tr>\n",
              "    <tr>\n",
              "      <th>oldpeak</th>\n",
              "      <td>0</td>\n",
              "    </tr>\n",
              "    <tr>\n",
              "      <th>slope</th>\n",
              "      <td>0</td>\n",
              "    </tr>\n",
              "    <tr>\n",
              "      <th>noofmajorvessels</th>\n",
              "      <td>0</td>\n",
              "    </tr>\n",
              "    <tr>\n",
              "      <th>target</th>\n",
              "      <td>0</td>\n",
              "    </tr>\n",
              "  </tbody>\n",
              "</table>\n",
              "</div><br><label><b>dtype:</b> int64</label>"
            ],
            "text/plain": [
              "patientid            0\n",
              "age                  0\n",
              "gender               0\n",
              "chestpain            0\n",
              "restingBP            0\n",
              "serumcholestrol      0\n",
              "fastingbloodsugar    0\n",
              "restingrelectro      0\n",
              "maxheartrate         0\n",
              "exerciseangia        0\n",
              "oldpeak              0\n",
              "slope                0\n",
              "noofmajorvessels     0\n",
              "target               0\n",
              "dtype: int64"
            ]
          },
          "execution_count": 159,
          "metadata": {},
          "output_type": "execute_result"
        }
      ],
      "source": [
        "df.isna().sum()"
      ]
    },
    {
      "cell_type": "code",
      "execution_count": null,
      "metadata": {
        "colab": {
          "base_uri": "https://localhost:8080/"
        },
        "id": "ZBu7uuaFpnAb",
        "outputId": "bc76c7cc-0c14-40f6-de57-77448dd442d4"
      },
      "outputs": [
        {
          "data": {
            "text/plain": [
              "Index(['patientid', 'age', 'gender', 'chestpain', 'restingBP',\n",
              "       'serumcholestrol', 'fastingbloodsugar', 'restingrelectro',\n",
              "       'maxheartrate', 'exerciseangia', 'oldpeak', 'slope', 'noofmajorvessels',\n",
              "       'target'],\n",
              "      dtype='object')"
            ]
          },
          "execution_count": 160,
          "metadata": {},
          "output_type": "execute_result"
        }
      ],
      "source": [
        "df.columns"
      ]
    },
    {
      "cell_type": "code",
      "execution_count": null,
      "metadata": {
        "colab": {
          "base_uri": "https://localhost:8080/"
        },
        "id": "WWvEteuPpxrV",
        "outputId": "9d872e02-76c0-4ceb-dd34-c18f4e8f5f7a"
      },
      "outputs": [
        {
          "name": "stdout",
          "output_type": "stream",
          "text": [
            "Age Range: 20 - 80\n"
          ]
        }
      ],
      "source": [
        "age_range = f\"Age Range: {df['age'].min()} - {df['age'].max()}\"\n",
        "print(age_range)"
      ]
    },
    {
      "cell_type": "code",
      "execution_count": null,
      "metadata": {
        "colab": {
          "base_uri": "https://localhost:8080/"
        },
        "id": "ZstqHfBktpEJ",
        "outputId": "3fb9a6c6-db23-4a0f-e4ff-9e5b3ba231b5"
      },
      "outputs": [
        {
          "name": "stdout",
          "output_type": "stream",
          "text": [
            "gender\n",
            "1    765\n",
            "0    235\n",
            "Name: count, dtype: int64\n"
          ]
        }
      ],
      "source": [
        "gender_count = df['gender'].value_counts()\n",
        "print(gender_count)"
      ]
    },
    {
      "cell_type": "code",
      "execution_count": null,
      "metadata": {
        "colab": {
          "base_uri": "https://localhost:8080/"
        },
        "id": "h3kakA6mt0gR",
        "outputId": "06e2731a-9efc-49cc-d780-bdda058ca731"
      },
      "outputs": [
        {
          "name": "stdout",
          "output_type": "stream",
          "text": [
            "chestpain\n",
            "0    420\n",
            "2    312\n",
            "1    224\n",
            "3     44\n",
            "Name: count, dtype: int64\n"
          ]
        }
      ],
      "source": [
        "chest_pain_counts = df['chestpain'].value_counts()\n",
        "print(chest_pain_counts)"
      ]
    },
    {
      "cell_type": "code",
      "execution_count": null,
      "metadata": {
        "colab": {
          "base_uri": "https://localhost:8080/",
          "height": 410
        },
        "id": "7GBcZ3Mvt2DZ",
        "outputId": "e398d183-59ed-4cad-ebb4-752b504af0b7"
      },
      "outputs": [
        {
          "data": {
            "image/png": "[encoded data removed]",
            "text/plain": [
              "<Figure size 800x400 with 1 Axes>"
            ]
          },
          "metadata": {},
          "output_type": "display_data"
        }
      ],
      "source": [
        "# Visualization:\n",
        "plt.figure(figsize=(8, 4))\n",
        "sns.barplot(x='chestpain', y='maxheartrate', data=df, palette='viridis')\n",
        "plt.title('Maximum Heart Rate by Chest Pain Type')\n",
        "plt.xlabel('Chest Pain Type')\n",
        "plt.ylabel('Maximum Heart Rate')\n",
        "plt.show()"
      ]
    },
    {
      "cell_type": "code",
      "execution_count": null,
      "metadata": {
        "colab": {
          "base_uri": "https://localhost:8080/"
        },
        "id": "zjbBna7rt_n9",
        "outputId": "37def98f-88e1-4b29-de9b-cd9d8f504100"
      },
      "outputs": [
        {
          "name": "stdout",
          "output_type": "stream",
          "text": [
            "Average Resting Blood Pressure: 151.75 mm Hg\n"
          ]
        }
      ],
      "source": [
        "average_resting_bp = df['restingBP'].mean()\n",
        "print(f\"Average Resting Blood Pressure: {average_resting_bp:.2f} mm Hg\")"
      ]
    },
    {
      "cell_type": "code",
      "execution_count": null,
      "metadata": {
        "colab": {
          "base_uri": "https://localhost:8080/",
          "height": 564
        },
        "id": "LUo3DvdbusXV",
        "outputId": "b3bc7766-6c0c-4672-d063-082ca9d8ee5a"
      },
      "outputs": [
        {
          "data": {
            "image/png": "[encoded data removed]",
            "text/plain": [
              "<Figure size 1000x600 with 1 Axes>"
            ]
          },
          "metadata": {},
          "output_type": "display_data"
        }
      ],
      "source": [
        "plt.figure(figsize=(10, 6))\n",
        "sns.boxplot(x='serumcholestrol', data=df, palette='coolwarm')\n",
        "plt.title('Distribution of Serum Cholesterol')\n",
        "plt.xlabel('Serum Cholesterol')\n",
        "plt.show()"
      ]
    },
    {
      "cell_type": "code",
      "execution_count": null,
      "metadata": {
        "colab": {
          "base_uri": "https://localhost:8080/"
        },
        "id": "5UuGIoTGuujU",
        "outputId": "dc9683de-a78c-48ea-c158-6da75c710c15"
      },
      "outputs": [
        {
          "name": "stdout",
          "output_type": "stream",
          "text": [
            "Percentage of patients with fasting blood sugar > 120 mg/dl: 29.60%\n"
          ]
        }
      ],
      "source": [
        "percentage_high_fasting_sugar = (df['fastingbloodsugar'].sum() / len(df)) * 100\n",
        "print(f\"Percentage of patients with fasting blood sugar > 120 mg/dl: {percentage_high_fasting_sugar:.2f}%\")"
      ]
    },
    {
      "cell_type": "code",
      "execution_count": null,
      "metadata": {
        "colab": {
          "base_uri": "https://localhost:8080/"
        },
        "id": "_8hCI6lFu1SO",
        "outputId": "9c2ef49c-258c-4b1a-87e2-d7806a78ec47"
      },
      "outputs": [
        {
          "name": "stdout",
          "output_type": "stream",
          "text": [
            "restingrelectro\n",
            "0    454\n",
            "1    344\n",
            "2    202\n",
            "Name: count, dtype: int64\n"
          ]
        }
      ],
      "source": [
        "resting_electro_counts = df['restingrelectro'].value_counts()\n",
        "print(resting_electro_counts)"
      ]
    },
    {
      "cell_type": "code",
      "execution_count": null,
      "metadata": {
        "colab": {
          "base_uri": "https://localhost:8080/",
          "height": 564
        },
        "id": "iBZoB_0Pu39f",
        "outputId": "8a96e866-c2c6-4bb8-8c8d-4047cd6dd4b5"
      },
      "outputs": [
        {
          "data": {
            "image/png": "[encoded data removed]",
            "text/plain": [
              "<Figure size 1000x600 with 1 Axes>"
            ]
          },
          "metadata": {},
          "output_type": "display_data"
        }
      ],
      "source": [
        "# Visualization:\n",
        "plt.figure(figsize=(10, 6))\n",
        "sns.scatterplot(x='age', y='maxheartrate', hue='target', data=df, palette='coolwarm', s=100)\n",
        "plt.title('Age vs. Max Heart Rate with Target Labels')\n",
        "plt.xlabel('Age')\n",
        "plt.ylabel('Max Heart Rate')\n",
        "plt.legend(title='Target', loc='upper right', labels=['No Heart Disease', 'Heart Disease'])\n",
        "plt.show()"
      ]
    },
    {
      "cell_type": "code",
      "execution_count": null,
      "metadata": {
        "colab": {
          "base_uri": "https://localhost:8080/"
        },
        "id": "LkwkMJ1Pu_mr",
        "outputId": "e2091d06-57f9-425d-db38-f428f97254d0"
      },
      "outputs": [
        {
          "name": "stdout",
          "output_type": "stream",
          "text": [
            "Average Maximum Heart Rate: 145.48\n"
          ]
        }
      ],
      "source": [
        "average_max_heart_rate = df['maxheartrate'].mean()\n",
        "print(f\"Average Maximum Heart Rate: {average_max_heart_rate:.2f}\")"
      ]
    },
    {
      "cell_type": "code",
      "execution_count": null,
      "metadata": {
        "colab": {
          "base_uri": "https://localhost:8080/"
        },
        "id": "bawX8fLWvF0t",
        "outputId": "b13de07f-8585-4704-e463-b7e815fd10ee"
      },
      "outputs": [
        {
          "name": "stdout",
          "output_type": "stream",
          "text": [
            "Number of Patients with Exercise-Induced Angina: 498\n"
          ]
        }
      ],
      "source": [
        "exercise_angina_count = df['exerciseangia'].sum()\n",
        "print(f\"Number of Patients with Exercise-Induced Angina: {exercise_angina_count}\")"
      ]
    },
    {
      "cell_type": "code",
      "execution_count": null,
      "metadata": {
        "colab": {
          "base_uri": "https://localhost:8080/"
        },
        "id": "AzNCEJjavKTz",
        "outputId": "ac04af53-0d9f-433c-9d63-adde16c33f5b"
      },
      "outputs": [
        {
          "name": "stdout",
          "output_type": "stream",
          "text": [
            "Average Oldpeak: 2.71\n"
          ]
        }
      ],
      "source": [
        "average_oldpeak = df['oldpeak'].mean()\n",
        "print(f\"Average Oldpeak: {average_oldpeak:.2f}\")"
      ]
    },
    {
      "cell_type": "code",
      "execution_count": null,
      "metadata": {
        "colab": {
          "base_uri": "https://localhost:8080/",
          "height": 564
        },
        "id": "hvV7KyKDvP-t",
        "outputId": "7c0b58ba-9b7a-42a6-9645-45efa6979f44"
      },
      "outputs": [
        {
          "data": {
            "image/png": "[encoded data removed]",
            "text/plain": [
              "<Figure size 1000x600 with 1 Axes>"
            ]
          },
          "metadata": {},
          "output_type": "display_data"
        }
      ],
      "source": [
        "plt.figure(figsize=(10, 6))\n",
        "sns.countplot(x='slope', data=df, palette='viridis')\n",
        "plt.title('Distribution of Slope of Peak Exercise ST Segment')\n",
        "plt.xlabel('Slope')\n",
        "plt.ylabel('Count')\n",
        "plt.show()"
      ]
    },
    {
      "cell_type": "code",
      "execution_count": null,
      "metadata": {
        "colab": {
          "base_uri": "https://localhost:8080/"
        },
        "id": "eC6pVzfAve_m",
        "outputId": "1a927b47-7bea-4b0c-e30f-f3eeda2d69ee"
      },
      "outputs": [
        {
          "name": "stdout",
          "output_type": "stream",
          "text": [
            "Number of Major Vessels Range: 0 - 3\n"
          ]
        }
      ],
      "source": [
        "vessels_range = f\"Number of Major Vessels Range: {df['noofmajorvessels'].min()} - {df['noofmajorvessels'].max()}\"\n",
        "print(vessels_range)"
      ]
    },
    {
      "cell_type": "code",
      "execution_count": null,
      "metadata": {
        "colab": {
          "base_uri": "https://localhost:8080/"
        },
        "id": "o_wu-g9LvijW",
        "outputId": "6a1dc2c5-8148-4429-e6aa-b04027738bbd"
      },
      "outputs": [
        {
          "name": "stdout",
          "output_type": "stream",
          "text": [
            "Percentage of Patients with Heart Disease: 58.00%\n"
          ]
        }
      ],
      "source": [
        "percentage_heart_disease = (df['target'].sum() / len(df)) * 100\n",
        "print(f\"Percentage of Patients with Heart Disease: {percentage_heart_disease:.2f}%\")"
      ]
    },
    {
      "cell_type": "code",
      "execution_count": null,
      "metadata": {
        "colab": {
          "base_uri": "https://localhost:8080/",
          "height": 564
        },
        "id": "gUiybanqvnLw",
        "outputId": "1af3bfad-f57b-415c-90f2-7a62838c3c52"
      },
      "outputs": [
        {
          "data": {
            "image/png": "[encoded data removed]",
            "text/plain": [
              "<Figure size 1000x600 with 1 Axes>"
            ]
          },
          "metadata": {},
          "output_type": "display_data"
        }
      ],
      "source": [
        "# Visualization:\n",
        "plt.figure(figsize=(10, 6))\n",
        "sns.histplot(x='age', hue='gender', data=df, palette='muted', multiple='stack', bins=15)\n",
        "plt.title('Age Distribution by Gender')\n",
        "plt.xlabel('Age')\n",
        "plt.ylabel('Count')\n",
        "plt.legend(title='Gender', labels=['Female', 'Male'])\n",
        "plt.show()"
      ]
    },
    {
      "cell_type": "code",
      "execution_count": null,
      "metadata": {
        "colab": {
          "base_uri": "https://localhost:8080/"
        },
        "id": "2GpzyLSCv5ES",
        "outputId": "87ef4e2b-145c-4163-b30f-b1987b958917"
      },
      "outputs": [
        {
          "name": "stdout",
          "output_type": "stream",
          "text": [
            "Details of the Oldest Patient:\n",
            "patientid            1160678.0\n",
            "age                       80.0\n",
            "gender                     1.0\n",
            "chestpain                  1.0\n",
            "restingBP                130.0\n",
            "serumcholestrol          342.0\n",
            "fastingbloodsugar          0.0\n",
            "restingrelectro            0.0\n",
            "maxheartrate             176.0\n",
            "exerciseangia              1.0\n",
            "oldpeak                    2.5\n",
            "slope                      0.0\n",
            "noofmajorvessels           0.0\n",
            "target                     0.0\n",
            "Name: 102, dtype: float64\n"
          ]
        }
      ],
      "source": [
        "oldest_patient = df.loc[df['age'].idxmax()]\n",
        "print(f\"Details of the Oldest Patient:\\n{oldest_patient}\")"
      ]
    },
    {
      "cell_type": "code",
      "execution_count": null,
      "metadata": {
        "colab": {
          "base_uri": "https://localhost:8080/"
        },
        "id": "H6afviHpv-ZF",
        "outputId": "2809ec67-6bbe-488d-a8b2-d0de76e9b6ce"
      },
      "outputs": [
        {
          "name": "stdout",
          "output_type": "stream",
          "text": [
            "Details of the Patient with the Lowest Resting Blood Pressure:\n",
            "patientid            119250.0\n",
            "age                      40.0\n",
            "gender                    1.0\n",
            "chestpain                 0.0\n",
            "restingBP                94.0\n",
            "serumcholestrol         229.0\n",
            "fastingbloodsugar         0.0\n",
            "restingrelectro           1.0\n",
            "maxheartrate            115.0\n",
            "exerciseangia             0.0\n",
            "oldpeak                   3.7\n",
            "slope                     1.0\n",
            "noofmajorvessels          1.0\n",
            "target                    0.0\n",
            "Name: 1, dtype: float64\n"
          ]
        }
      ],
      "source": [
        "lowest_bp_patient = df.loc[df['restingBP'].idxmin()]\n",
        "print(f\"Details of the Patient with the Lowest Resting Blood Pressure:\\n{lowest_bp_patient}\")"
      ]
    },
    {
      "cell_type": "code",
      "execution_count": null,
      "metadata": {
        "colab": {
          "base_uri": "https://localhost:8080/"
        },
        "id": "AxV1w16swQnY",
        "outputId": "33945937-fb9e-424e-d1d5-9d762dfacbbb"
      },
      "outputs": [
        {
          "name": "stdout",
          "output_type": "stream",
          "text": [
            "Correlation between Age and Maximum Heart Rate: -0.04\n"
          ]
        }
      ],
      "source": [
        "correlation_age_maxheartrate = df['age'].corr(df['maxheartrate'])\n",
        "print(f\"Correlation between Age and Maximum Heart Rate: {correlation_age_maxheartrate:.2f}\")"
      ]
    },
    {
      "cell_type": "code",
      "execution_count": null,
      "metadata": {
        "colab": {
          "base_uri": "https://localhost:8080/",
          "height": 564
        },
        "id": "Hgpfg3Q6wrZq",
        "outputId": "306d175f-05fd-46d8-ad5e-b067302054f7"
      },
      "outputs": [
        {
          "data": {
            "image/png": "[encoded data removed]",
            "text/plain": [
              "<Figure size 1000x600 with 1 Axes>"
            ]
          },
          "metadata": {},
          "output_type": "display_data"
        }
      ],
      "source": [
        "plt.figure(figsize=(10, 6))\n",
        "sns.countplot(x='chestpain', hue='target', data=df, palette='Set1')\n",
        "plt.title('Heart Disease Presence by Chest Pain Type')\n",
        "plt.xlabel('Chest Pain Type')\n",
        "plt.ylabel('Count')\n",
        "plt.legend(title='Heart Disease', labels=['No', 'Yes'])\n",
        "plt.show()"
      ]
    },
    {
      "cell_type": "code",
      "execution_count": null,
      "metadata": {
        "colab": {
          "base_uri": "https://localhost:8080/",
          "height": 564
        },
        "id": "Il-FjAuUw1vJ",
        "outputId": "6f3a0192-78df-4bab-9dd5-48c3760de848"
      },
      "outputs": [
        {
          "data": {
            "image/png": "[encoded data removed]",
            "text/plain": [
              "<Figure size 1000x600 with 1 Axes>"
            ]
          },
          "metadata": {},
          "output_type": "display_data"
        }
      ],
      "source": [
        "plt.figure(figsize=(10, 6))\n",
        "sns.boxplot(x='target', y='serumcholestrol', data=df, palette='pastel')\n",
        "plt.title('Serum Cholesterol Distribution by Heart Disease Presence')\n",
        "plt.xlabel('Heart Disease Presence')\n",
        "plt.ylabel('Serum Cholesterol')\n",
        "plt.xticks(ticks=[0, 1], labels=['No Heart Disease', 'Heart Disease'])\n",
        "plt.show()"
      ]
    },
    {
      "cell_type": "code",
      "execution_count": null,
      "metadata": {
        "colab": {
          "base_uri": "https://localhost:8080/",
          "height": 564
        },
        "id": "hDmV6lEAxCR8",
        "outputId": "b811d398-fcab-4ac3-d36d-1527bad6a83f"
      },
      "outputs": [
        {
          "data": {
            "image/png": "[encoded data removed]",
            "text/plain": [
              "<Figure size 1000x600 with 1 Axes>"
            ]
          },
          "metadata": {},
          "output_type": "display_data"
        }
      ],
      "source": [
        "plt.figure(figsize=(10, 6))\n",
        "sns.histplot(x='oldpeak', data=df[df['target'] == 1], bins=15, kde=True, color='coral')\n",
        "plt.title('Distribution of Oldpeak in Patients with Heart Disease')\n",
        "plt.xlabel('Oldpeak')\n",
        "plt.ylabel('Count')\n",
        "plt.show()"
      ]
    },
    {
      "cell_type": "code",
      "execution_count": null,
      "metadata": {
        "colab": {
          "base_uri": "https://localhost:8080/"
        },
        "id": "xmjEgwEdxMBM",
        "outputId": "2cc35938-baac-4e2c-8f2a-84eb2cbb9c73"
      },
      "outputs": [
        {
          "name": "stdout",
          "output_type": "stream",
          "text": [
            "Number of Patients with Defects in All Three Major Vessels: 116\n"
          ]
        }
      ],
      "source": [
        "defects_count = len(df[df['noofmajorvessels'] == 3])\n",
        "print(f\"Number of Patients with Defects in All Three Major Vessels: {defects_count}\")"
      ]
    },
    {
      "cell_type": "code",
      "execution_count": null,
      "metadata": {
        "colab": {
          "base_uri": "https://localhost:8080/",
          "height": 564
        },
        "id": "rg0F1GdMxPnE",
        "outputId": "41a7c281-6b17-48ef-bee8-1bb47d9b184a"
      },
      "outputs": [
        {
          "data": {
            "image/png": "[encoded data removed]",
            "text/plain": [
              "<Figure size 1000x600 with 1 Axes>"
            ]
          },
          "metadata": {},
          "output_type": "display_data"
        }
      ],
      "source": [
        "# Visualization\n",
        "plt.figure(figsize=(10, 6))\n",
        "sns.barplot(x='gender', y='maxheartrate', hue='target', data=df, palette='mako')\n",
        "plt.title('Max Heart Rate by Gender and Heart Disease Presence')\n",
        "plt.xlabel('Gender')\n",
        "plt.ylabel('Max Heart Rate')\n",
        "plt.legend(title='Heart Disease', labels=['No', 'Yes'])\n",
        "plt.show()"
      ]
    },
    {
      "cell_type": "code",
      "execution_count": null,
      "metadata": {
        "colab": {
          "base_uri": "https://localhost:8080/"
        },
        "id": "jFfuOa61y01B",
        "outputId": "e0765876-9756-4d88-83fd-3902bb5bedea"
      },
      "outputs": [
        {
          "data": {
            "text/plain": [
              "array([1, 0])"
            ]
          },
          "execution_count": 185,
          "metadata": {},
          "output_type": "execute_result"
        }
      ],
      "source": [
        "# target classes :\n",
        "df.target.unique()\n"
      ]
    },
    {
      "cell_type": "code",
      "execution_count": null,
      "metadata": {
        "id": "wVXe15cmy5cR"
      },
      "outputs": [],
      "source": [
        "df = df.replace({'target' : {\n",
        "                                    0 : 'Absence of Heart Disease',\n",
        "                                    1 : 'Presence of Heart Disease',\n",
        "        }}\n",
        ")"
      ]
    },
    {
      "cell_type": "code",
      "execution_count": null,
      "metadata": {
        "colab": {
          "base_uri": "https://localhost:8080/",
          "height": 293
        },
        "id": "pRJ3UaLLy817",
        "outputId": "13bea4a5-d101-49c2-f635-a37b336ba160"
      },
      "outputs": [
        {
          "data": {
            "application/vnd.google.colaboratory.intrinsic+json": {
              "summary": "{\n  \"name\": \"df\",\n  \"rows\": 1000,\n  \"fields\": [\n    {\n      \"column\": \"patientid\",\n      \"properties\": {\n        \"dtype\": \"number\",\n        \"std\": 2895904,\n        \"min\": 103368,\n        \"max\": 9990855,\n        \"num_unique_values\": 1000,\n        \"samples\": [\n          5125568,\n          7527664,\n          7585452\n        ],\n        \"semantic_type\": \"\",\n        \"description\": \"\"\n      }\n    },\n    {\n      \"column\": \"age\",\n      \"properties\": {\n        \"dtype\": \"number\",\n        \"std\": 17,\n        \"min\": 20,\n        \"max\": 80,\n        \"num_unique_values\": 61,\n        \"samples\": [\n          53,\n          24,\n          60\n        ],\n        \"semantic_type\": \"\",\n        \"description\": \"\"\n      }\n    },\n    {\n      \"column\": \"gender\",\n      \"properties\": {\n        \"dtype\": \"number\",\n        \"std\": 0,\n        \"min\": 0,\n        \"max\": 1,\n        \"num_unique_values\": 2,\n        \"samples\": [\n          0,\n          1\n        ],\n        \"semantic_type\": \"\",\n        \"description\": \"\"\n      }\n    },\n    {\n      \"column\": \"chestpain\",\n      \"properties\": {\n        \"dtype\": \"number\",\n        \"std\": 0,\n        \"min\": 0,\n        \"max\": 3,\n        \"num_unique_values\": 4,\n        \"samples\": [\n          0,\n          3\n        ],\n        \"semantic_type\": \"\",\n        \"description\": \"\"\n      }\n    },\n    {\n      \"column\": \"restingBP\",\n      \"properties\": {\n        \"dtype\": \"number\",\n        \"std\": 29,\n        \"min\": 94,\n        \"max\": 200,\n        \"num_unique_values\": 95,\n        \"samples\": [\n          154,\n          191\n        ],\n        \"semantic_type\": \"\",\n        \"description\": \"\"\n      }\n    },\n    {\n      \"column\": \"serumcholestrol\",\n      \"properties\": {\n        \"dtype\": \"number\",\n        \"std\": 132,\n        \"min\": 0,\n        \"max\": 602,\n        \"num_unique_values\": 344,\n        \"samples\": [\n          470,\n          302\n        ],\n        \"semantic_type\": \"\",\n        \"description\": \"\"\n      }\n    },\n    {\n      \"column\": \"fastingbloodsugar\",\n      \"properties\": {\n        \"dtype\": \"number\",\n        \"std\": 0,\n        \"min\": 0,\n        \"max\": 1,\n        \"num_unique_values\": 2,\n        \"samples\": [\n          1,\n          0\n        ],\n        \"semantic_type\": \"\",\n        \"description\": \"\"\n      }\n    },\n    {\n      \"column\": \"restingrelectro\",\n      \"properties\": {\n        \"dtype\": \"number\",\n        \"std\": 0,\n        \"min\": 0,\n        \"max\": 2,\n        \"num_unique_values\": 3,\n        \"samples\": [\n          1,\n          0\n        ],\n        \"semantic_type\": \"\",\n        \"description\": \"\"\n      }\n    },\n    {\n      \"column\": \"maxheartrate\",\n      \"properties\": {\n        \"dtype\": \"number\",\n        \"std\": 34,\n        \"min\": 71,\n        \"max\": 202,\n        \"num_unique_values\": 129,\n        \"samples\": [\n          167,\n          108\n        ],\n        \"semantic_type\": \"\",\n        \"description\": \"\"\n      }\n    },\n    {\n      \"column\": \"exerciseangia\",\n      \"properties\": {\n        \"dtype\": \"number\",\n        \"std\": 0,\n        \"min\": 0,\n        \"max\": 1,\n        \"num_unique_values\": 2,\n        \"samples\": [\n          1,\n          0\n        ],\n        \"semantic_type\": \"\",\n        \"description\": \"\"\n      }\n    },\n    {\n      \"column\": \"oldpeak\",\n      \"properties\": {\n        \"dtype\": \"number\",\n        \"std\": 1.7207532367256217,\n        \"min\": 0.0,\n        \"max\": 6.2,\n        \"num_unique_values\": 63,\n        \"samples\": [\n          6.2,\n          4.0\n        ],\n        \"semantic_type\": \"\",\n        \"description\": \"\"\n      }\n    },\n    {\n      \"column\": \"slope\",\n      \"properties\": {\n        \"dtype\": \"number\",\n        \"std\": 1,\n        \"min\": 0,\n        \"max\": 3,\n        \"num_unique_values\": 4,\n        \"samples\": [\n          1,\n          0\n        ],\n        \"semantic_type\": \"\",\n        \"description\": \"\"\n      }\n    },\n    {\n      \"column\": \"noofmajorvessels\",\n      \"properties\": {\n        \"dtype\": \"number\",\n        \"std\": 0,\n        \"min\": 0,\n        \"max\": 3,\n        \"num_unique_values\": 4,\n        \"samples\": [\n          1,\n          2\n        ],\n        \"semantic_type\": \"\",\n        \"description\": \"\"\n      }\n    },\n    {\n      \"column\": \"target\",\n      \"properties\": {\n        \"dtype\": \"category\",\n        \"num_unique_values\": 2,\n        \"samples\": [\n          \"Absence of Heart Disease\",\n          \"Presence of Heart Disease\"\n        ],\n        \"semantic_type\": \"\",\n        \"description\": \"\"\n      }\n    }\n  ]\n}",
              "type": "dataframe",
              "variable_name": "df"
            },
            "text/html": [
              "\n",
              "  <div id=\"df-dc611126-5280-41dc-8e9a-e039f4f55d10\" class=\"colab-df-container\">\n",
              "    <div>\n",
              "<style scoped>\n",
              "    .dataframe tbody tr th:only-of-type {\n",
              "        vertical-align: middle;\n",
              "    }\n",
              "\n",
              "    .dataframe tbody tr th {\n",
              "        vertical-align: top;\n",
              "    }\n",
              "\n",
              "    .dataframe thead th {\n",
              "        text-align: right;\n",
              "    }\n",
              "</style>\n",
              "<table border=\"1\" class=\"dataframe\">\n",
              "  <thead>\n",
              "    <tr style=\"text-align: right;\">\n",
              "      <th></th>\n",
              "      <th>patientid</th>\n",
              "      <th>age</th>\n",
              "      <th>gender</th>\n",
              "      <th>chestpain</th>\n",
              "      <th>restingBP</th>\n",
              "      <th>serumcholestrol</th>\n",
              "      <th>fastingbloodsugar</th>\n",
              "      <th>restingrelectro</th>\n",
              "      <th>maxheartrate</th>\n",
              "      <th>exerciseangia</th>\n",
              "      <th>oldpeak</th>\n",
              "      <th>slope</th>\n",
              "      <th>noofmajorvessels</th>\n",
              "      <th>target</th>\n",
              "    </tr>\n",
              "  </thead>\n",
              "  <tbody>\n",
              "    <tr>\n",
              "      <th>0</th>\n",
              "      <td>103368</td>\n",
              "      <td>53</td>\n",
              "      <td>1</td>\n",
              "      <td>2</td>\n",
              "      <td>171</td>\n",
              "      <td>0</td>\n",
              "      <td>0</td>\n",
              "      <td>1</td>\n",
              "      <td>147</td>\n",
              "      <td>0</td>\n",
              "      <td>5.3</td>\n",
              "      <td>3</td>\n",
              "      <td>3</td>\n",
              "      <td>Presence of Heart Disease</td>\n",
              "    </tr>\n",
              "    <tr>\n",
              "      <th>1</th>\n",
              "      <td>119250</td>\n",
              "      <td>40</td>\n",
              "      <td>1</td>\n",
              "      <td>0</td>\n",
              "      <td>94</td>\n",
              "      <td>229</td>\n",
              "      <td>0</td>\n",
              "      <td>1</td>\n",
              "      <td>115</td>\n",
              "      <td>0</td>\n",
              "      <td>3.7</td>\n",
              "      <td>1</td>\n",
              "      <td>1</td>\n",
              "      <td>Absence of Heart Disease</td>\n",
              "    </tr>\n",
              "    <tr>\n",
              "      <th>2</th>\n",
              "      <td>119372</td>\n",
              "      <td>49</td>\n",
              "      <td>1</td>\n",
              "      <td>2</td>\n",
              "      <td>133</td>\n",
              "      <td>142</td>\n",
              "      <td>0</td>\n",
              "      <td>0</td>\n",
              "      <td>202</td>\n",
              "      <td>1</td>\n",
              "      <td>5.0</td>\n",
              "      <td>1</td>\n",
              "      <td>0</td>\n",
              "      <td>Absence of Heart Disease</td>\n",
              "    </tr>\n",
              "    <tr>\n",
              "      <th>3</th>\n",
              "      <td>132514</td>\n",
              "      <td>43</td>\n",
              "      <td>1</td>\n",
              "      <td>0</td>\n",
              "      <td>138</td>\n",
              "      <td>295</td>\n",
              "      <td>1</td>\n",
              "      <td>1</td>\n",
              "      <td>153</td>\n",
              "      <td>0</td>\n",
              "      <td>3.2</td>\n",
              "      <td>2</td>\n",
              "      <td>2</td>\n",
              "      <td>Presence of Heart Disease</td>\n",
              "    </tr>\n",
              "    <tr>\n",
              "      <th>4</th>\n",
              "      <td>146211</td>\n",
              "      <td>31</td>\n",
              "      <td>1</td>\n",
              "      <td>1</td>\n",
              "      <td>199</td>\n",
              "      <td>0</td>\n",
              "      <td>0</td>\n",
              "      <td>2</td>\n",
              "      <td>136</td>\n",
              "      <td>0</td>\n",
              "      <td>5.3</td>\n",
              "      <td>3</td>\n",
              "      <td>2</td>\n",
              "      <td>Presence of Heart Disease</td>\n",
              "    </tr>\n",
              "  </tbody>\n",
              "</table>\n",
              "</div>\n",
              "    <div class=\"colab-df-buttons\">\n",
              "\n",
              "  <div class=\"colab-df-container\">\n",
              "    <button class=\"colab-df-convert\" onclick=\"convertToInteractive('df-dc611126-5280-41dc-8e9a-e039f4f55d10')\"\n",
              "            title=\"Convert this dataframe to an interactive table.\"\n",
              "            style=\"display:none;\">\n",
              "\n",
              "  <svg xmlns=\"http://www.w3.org/2000/svg\" height=\"24px\" viewBox=\"0 -960 960 960\">\n",
              "    <path d=\"M120-120v-720h720v720H120Zm60-500h600v-160H180v160Zm220 220h160v-160H400v160Zm0 220h160v-160H400v160ZM180-400h160v-160H180v160Zm440 0h160v-160H620v160ZM180-180h160v-160H180v160Zm440 0h160v-160H620v160Z\"/>\n",
              "  </svg>\n",
              "    </button>\n",
              "\n",
              "  <style>\n",
              "    .colab-df-container {\n",
              "      display:flex;\n",
              "      gap: 12px;\n",
              "    }\n",
              "\n",
              "    .colab-df-convert {\n",
              "      background-color: #E8F0FE;\n",
              "      border: none;\n",
              "      border-radius: 50%;\n",
              "      cursor: pointer;\n",
              "      display: none;\n",
              "      fill: #1967D2;\n",
              "      height: 32px;\n",
              "      padding: 0 0 0 0;\n",
              "      width: 32px;\n",
              "    }\n",
              "\n",
              "    .colab-df-convert:hover {\n",
              "      background-color: #E2EBFA;\n",
              "      box-shadow: 0px 1px 2px rgba(60, 64, 67, 0.3), 0px 1px 3px 1px rgba(60, 64, 67, 0.15);\n",
              "      fill: #174EA6;\n",
              "    }\n",
              "\n",
              "    .colab-df-buttons div {\n",
              "      margin-bottom: 4px;\n",
              "    }\n",
              "\n",
              "    [theme=dark] .colab-df-convert {\n",
              "      background-color: #3B4455;\n",
              "      fill: #D2E3FC;\n",
              "    }\n",
              "\n",
              "    [theme=dark] .colab-df-convert:hover {\n",
              "      background-color: #434B5C;\n",
              "      box-shadow: 0px 1px 3px 1px rgba(0, 0, 0, 0.15);\n",
              "      filter: drop-shadow(0px 1px 2px rgba(0, 0, 0, 0.3));\n",
              "      fill: #FFFFFF;\n",
              "    }\n",
              "  </style>\n",
              "\n",
              "    <script>\n",
              "      const buttonEl =\n",
              "        document.querySelector('#df-dc611126-5280-41dc-8e9a-e039f4f55d10 button.colab-df-convert');\n",
              "      buttonEl.style.display =\n",
              "        google.colab.kernel.accessAllowed ? 'block' : 'none';\n",
              "\n",
              "      async function convertToInteractive(key) {\n",
              "        const element = document.querySelector('#df-dc611126-5280-41dc-8e9a-e039f4f55d10');\n",
              "        const dataTable =\n",
              "          await google.colab.kernel.invokeFunction('convertToInteractive',\n",
              "                                                    [key], {});\n",
              "        if (!dataTable) return;\n",
              "\n",
              "        const docLinkHtml = 'Like what you see? Visit the ' +\n",
              "          '<a target=\"_blank\" href=https://colab.research.google.com/notebooks/data_table.ipynb>data table notebook</a>'\n",
              "          + ' to learn more about interactive tables.';\n",
              "        element.innerHTML = '';\n",
              "        dataTable['output_type'] = 'display_data';\n",
              "        await google.colab.output.renderOutput(dataTable, element);\n",
              "        const docLink = document.createElement('div');\n",
              "        docLink.innerHTML = docLinkHtml;\n",
              "        element.appendChild(docLink);\n",
              "      }\n",
              "    </script>\n",
              "  </div>\n",
              "\n",
              "\n",
              "    <div id=\"df-8b58f8c6-7672-45fb-85d1-14844798eccd\">\n",
              "      <button class=\"colab-df-quickchart\" onclick=\"quickchart('df-8b58f8c6-7672-45fb-85d1-14844798eccd')\"\n",
              "                title=\"Suggest charts\"\n",
              "                style=\"display:none;\">\n",
              "\n",
              "<svg xmlns=\"http://www.w3.org/2000/svg\" height=\"24px\"viewBox=\"0 0 24 24\"\n",
              "     width=\"24px\">\n",
              "    <g>\n",
              "        <path d=\"M19 3H5c-1.1 0-2 .9-2 2v14c0 1.1.9 2 2 2h14c1.1 0 2-.9 2-2V5c0-1.1-.9-2-2-2zM9 17H7v-7h2v7zm4 0h-2V7h2v10zm4 0h-2v-4h2v4z\"/>\n",
              "    </g>\n",
              "</svg>\n",
              "      </button>\n",
              "\n",
              "<style>\n",
              "  .colab-df-quickchart {\n",
              "      --bg-color: #E8F0FE;\n",
              "      --fill-color: #1967D2;\n",
              "      --hover-bg-color: #E2EBFA;\n",
              "      --hover-fill-color: #174EA6;\n",
              "      --disabled-fill-color: #AAA;\n",
              "      --disabled-bg-color: #DDD;\n",
              "  }\n",
              "\n",
              "  [theme=dark] .colab-df-quickchart {\n",
              "      --bg-color: #3B4455;\n",
              "      --fill-color: #D2E3FC;\n",
              "      --hover-bg-color: #434B5C;\n",
              "      --hover-fill-color: #FFFFFF;\n",
              "      --disabled-bg-color: #3B4455;\n",
              "      --disabled-fill-color: #666;\n",
              "  }\n",
              "\n",
              "  .colab-df-quickchart {\n",
              "    background-color: var(--bg-color);\n",
              "    border: none;\n",
              "    border-radius: 50%;\n",
              "    cursor: pointer;\n",
              "    display: none;\n",
              "    fill: var(--fill-color);\n",
              "    height: 32px;\n",
              "    padding: 0;\n",
              "    width: 32px;\n",
              "  }\n",
              "\n",
              "  .colab-df-quickchart:hover {\n",
              "    background-color: var(--hover-bg-color);\n",
              "    box-shadow: 0 1px 2px rgba(60, 64, 67, 0.3), 0 1px 3px 1px rgba(60, 64, 67, 0.15);\n",
              "    fill: var(--button-hover-fill-color);\n",
              "  }\n",
              "\n",
              "  .colab-df-quickchart-complete:disabled,\n",
              "  .colab-df-quickchart-complete:disabled:hover {\n",
              "    background-color: var(--disabled-bg-color);\n",
              "    fill: var(--disabled-fill-color);\n",
              "    box-shadow: none;\n",
              "  }\n",
              "\n",
              "  .colab-df-spinner {\n",
              "    border: 2px solid var(--fill-color);\n",
              "    border-color: transparent;\n",
              "    border-bottom-color: var(--fill-color);\n",
              "    animation:\n",
              "      spin 1s steps(1) infinite;\n",
              "  }\n",
              "\n",
              "  @keyframes spin {\n",
              "    0% {\n",
              "      border-color: transparent;\n",
              "      border-bottom-color: var(--fill-color);\n",
              "      border-left-color: var(--fill-color);\n",
              "    }\n",
              "    20% {\n",
              "      border-color: transparent;\n",
              "      border-left-color: var(--fill-color);\n",
              "      border-top-color: var(--fill-color);\n",
              "    }\n",
              "    30% {\n",
              "      border-color: transparent;\n",
              "      border-left-color: var(--fill-color);\n",
              "      border-top-color: var(--fill-color);\n",
              "      border-right-color: var(--fill-color);\n",
              "    }\n",
              "    40% {\n",
              "      border-color: transparent;\n",
              "      border-right-color: var(--fill-color);\n",
              "      border-top-color: var(--fill-color);\n",
              "    }\n",
              "    60% {\n",
              "      border-color: transparent;\n",
              "      border-right-color: var(--fill-color);\n",
              "    }\n",
              "    80% {\n",
              "      border-color: transparent;\n",
              "      border-right-color: var(--fill-color);\n",
              "      border-bottom-color: var(--fill-color);\n",
              "    }\n",
              "    90% {\n",
              "      border-color: transparent;\n",
              "      border-bottom-color: var(--fill-color);\n",
              "    }\n",
              "  }\n",
              "</style>\n",
              "\n",
              "      <script>\n",
              "        async function quickchart(key) {\n",
              "          const quickchartButtonEl =\n",
              "            document.querySelector('#' + key + ' button');\n",
              "          quickchartButtonEl.disabled = true;  // To prevent multiple clicks.\n",
              "          quickchartButtonEl.classList.add('colab-df-spinner');\n",
              "          try {\n",
              "            const charts = await google.colab.kernel.invokeFunction(\n",
              "                'suggestCharts', [key], {});\n",
              "          } catch (error) {\n",
              "            console.error('Error during call to suggestCharts:', error);\n",
              "          }\n",
              "          quickchartButtonEl.classList.remove('colab-df-spinner');\n",
              "          quickchartButtonEl.classList.add('colab-df-quickchart-complete');\n",
              "        }\n",
              "        (() => {\n",
              "          let quickchartButtonEl =\n",
              "            document.querySelector('#df-8b58f8c6-7672-45fb-85d1-14844798eccd button');\n",
              "          quickchartButtonEl.style.display =\n",
              "            google.colab.kernel.accessAllowed ? 'block' : 'none';\n",
              "        })();\n",
              "      </script>\n",
              "    </div>\n",
              "\n",
              "    </div>\n",
              "  </div>\n"
            ],
            "text/plain": [
              "   patientid  age  gender  chestpain  restingBP  serumcholestrol  \\\n",
              "0     103368   53       1          2        171                0   \n",
              "1     119250   40       1          0         94              229   \n",
              "2     119372   49       1          2        133              142   \n",
              "3     132514   43       1          0        138              295   \n",
              "4     146211   31       1          1        199                0   \n",
              "\n",
              "   fastingbloodsugar  restingrelectro  maxheartrate  exerciseangia  oldpeak  \\\n",
              "0                  0                1           147              0      5.3   \n",
              "1                  0                1           115              0      3.7   \n",
              "2                  0                0           202              1      5.0   \n",
              "3                  1                1           153              0      3.2   \n",
              "4                  0                2           136              0      5.3   \n",
              "\n",
              "   slope  noofmajorvessels                     target  \n",
              "0      3                 3  Presence of Heart Disease  \n",
              "1      1                 1   Absence of Heart Disease  \n",
              "2      1                 0   Absence of Heart Disease  \n",
              "3      2                 2  Presence of Heart Disease  \n",
              "4      3                 2  Presence of Heart Disease  "
            ]
          },
          "execution_count": 187,
          "metadata": {},
          "output_type": "execute_result"
        }
      ],
      "source": [
        "df.head()"
      ]
    },
    {
      "cell_type": "code",
      "execution_count": null,
      "metadata": {
        "id": "dhdXowFozDJ8"
      },
      "outputs": [],
      "source": [
        "# Create X from DataFrame and y as Target\n",
        "X_disease = df.drop(columns='target')\n",
        "y = df.target"
      ]
    },
    {
      "cell_type": "code",
      "execution_count": null,
      "metadata": {
        "colab": {
          "base_uri": "https://localhost:8080/",
          "height": 457
        },
        "id": "5TXFSL3MzGqH",
        "outputId": "d36d8ddb-b6cd-45fc-e49e-d44b784e0cca"
      },
      "outputs": [
        {
          "data": {
            "text/html": [
              "<style type=\"text/css\">\n",
              "#T_0efdb_row0_col0, #T_0efdb_row0_col3, #T_0efdb_row1_col0, #T_0efdb_row1_col3, #T_0efdb_row2_col0, #T_0efdb_row2_col3, #T_0efdb_row3_col0, #T_0efdb_row3_col3, #T_0efdb_row3_col4, #T_0efdb_row4_col0, #T_0efdb_row4_col3, #T_0efdb_row5_col0, #T_0efdb_row5_col2, #T_0efdb_row5_col3, #T_0efdb_row6_col0, #T_0efdb_row6_col1, #T_0efdb_row6_col3, #T_0efdb_row6_col4, #T_0efdb_row6_col5, #T_0efdb_row7_col0, #T_0efdb_row7_col3, #T_0efdb_row7_col4, #T_0efdb_row7_col6, #T_0efdb_row8_col0, #T_0efdb_row8_col3, #T_0efdb_row8_col7, #T_0efdb_row9_col0, #T_0efdb_row9_col3, #T_0efdb_row9_col4, #T_0efdb_row9_col5, #T_0efdb_row10_col0, #T_0efdb_row10_col3, #T_0efdb_row11_col0, #T_0efdb_row11_col3, #T_0efdb_row12_col0, #T_0efdb_row12_col3, #T_0efdb_row12_col4 {\n",
              "  background-color: #0d0887;\n",
              "  color: #f1f1f1;\n",
              "}\n",
              "#T_0efdb_row0_col1 {\n",
              "  background-color: #bb3488;\n",
              "  color: #f1f1f1;\n",
              "}\n",
              "#T_0efdb_row0_col2 {\n",
              "  background-color: #8104a7;\n",
              "  color: #f1f1f1;\n",
              "}\n",
              "#T_0efdb_row0_col4 {\n",
              "  background-color: #7b02a8;\n",
              "  color: #f1f1f1;\n",
              "}\n",
              "#T_0efdb_row0_col5 {\n",
              "  background-color: #c9447a;\n",
              "  color: #f1f1f1;\n",
              "}\n",
              "#T_0efdb_row0_col6 {\n",
              "  background-color: #d35171;\n",
              "  color: #f1f1f1;\n",
              "}\n",
              "#T_0efdb_row0_col7, #T_0efdb_row2_col1, #T_0efdb_row2_col4, #T_0efdb_row2_col5, #T_0efdb_row2_col6, #T_0efdb_row6_col6, #T_0efdb_row9_col2, #T_0efdb_row9_col6 {\n",
              "  background-color: #f0f921;\n",
              "  color: #000000;\n",
              "}\n",
              "#T_0efdb_row1_col1, #T_0efdb_row11_col2 {\n",
              "  background-color: #b32c8e;\n",
              "  color: #f1f1f1;\n",
              "}\n",
              "#T_0efdb_row1_col2 {\n",
              "  background-color: #8808a6;\n",
              "  color: #f1f1f1;\n",
              "}\n",
              "#T_0efdb_row1_col4 {\n",
              "  background-color: #7701a8;\n",
              "  color: #f1f1f1;\n",
              "}\n",
              "#T_0efdb_row1_col5 {\n",
              "  background-color: #c7427c;\n",
              "  color: #f1f1f1;\n",
              "}\n",
              "#T_0efdb_row1_col6 {\n",
              "  background-color: #c5407e;\n",
              "  color: #f1f1f1;\n",
              "}\n",
              "#T_0efdb_row1_col7, #T_0efdb_row2_col7, #T_0efdb_row3_col5, #T_0efdb_row3_col6, #T_0efdb_row3_col7, #T_0efdb_row4_col7, #T_0efdb_row5_col7, #T_0efdb_row6_col7, #T_0efdb_row7_col7, #T_0efdb_row9_col7, #T_0efdb_row10_col7, #T_0efdb_row11_col4, #T_0efdb_row11_col6, #T_0efdb_row11_col7, #T_0efdb_row12_col5, #T_0efdb_row12_col6, #T_0efdb_row12_col7 {\n",
              "  background-color: #9c179e;\n",
              "  color: #f1f1f1;\n",
              "}\n",
              "#T_0efdb_row2_col2 {\n",
              "  background-color: #f68d45;\n",
              "  color: #f1f1f1;\n",
              "}\n",
              "#T_0efdb_row3_col1 {\n",
              "  background-color: #310597;\n",
              "  color: #f1f1f1;\n",
              "}\n",
              "#T_0efdb_row3_col2 {\n",
              "  background-color: #a11b9b;\n",
              "  color: #f1f1f1;\n",
              "}\n",
              "#T_0efdb_row4_col1, #T_0efdb_row5_col5 {\n",
              "  background-color: #d24f71;\n",
              "  color: #f1f1f1;\n",
              "}\n",
              "#T_0efdb_row4_col2 {\n",
              "  background-color: #7401a8;\n",
              "  color: #f1f1f1;\n",
              "}\n",
              "#T_0efdb_row4_col4 {\n",
              "  background-color: #9a169f;\n",
              "  color: #f1f1f1;\n",
              "}\n",
              "#T_0efdb_row4_col5, #T_0efdb_row7_col5 {\n",
              "  background-color: #cc4778;\n",
              "  color: #f1f1f1;\n",
              "}\n",
              "#T_0efdb_row4_col6 {\n",
              "  background-color: #e97158;\n",
              "  color: #f1f1f1;\n",
              "}\n",
              "#T_0efdb_row5_col1 {\n",
              "  background-color: #c43e7f;\n",
              "  color: #f1f1f1;\n",
              "}\n",
              "#T_0efdb_row5_col4 {\n",
              "  background-color: #ae2892;\n",
              "  color: #f1f1f1;\n",
              "}\n",
              "#T_0efdb_row5_col6 {\n",
              "  background-color: #9e199d;\n",
              "  color: #f1f1f1;\n",
              "}\n",
              "#T_0efdb_row6_col2 {\n",
              "  background-color: #feb82c;\n",
              "  color: #000000;\n",
              "}\n",
              "#T_0efdb_row7_col1 {\n",
              "  background-color: #5c01a6;\n",
              "  color: #f1f1f1;\n",
              "}\n",
              "#T_0efdb_row7_col2, #T_0efdb_row8_col6 {\n",
              "  background-color: #de6164;\n",
              "  color: #f1f1f1;\n",
              "}\n",
              "#T_0efdb_row8_col1 {\n",
              "  background-color: #dd5e66;\n",
              "  color: #f1f1f1;\n",
              "}\n",
              "#T_0efdb_row8_col2 {\n",
              "  background-color: #5502a4;\n",
              "  color: #f1f1f1;\n",
              "}\n",
              "#T_0efdb_row8_col4 {\n",
              "  background-color: #a82296;\n",
              "  color: #f1f1f1;\n",
              "}\n",
              "#T_0efdb_row8_col5 {\n",
              "  background-color: #db5c68;\n",
              "  color: #f1f1f1;\n",
              "}\n",
              "#T_0efdb_row9_col1 {\n",
              "  background-color: #ba3388;\n",
              "  color: #f1f1f1;\n",
              "}\n",
              "#T_0efdb_row10_col1 {\n",
              "  background-color: #8f0da4;\n",
              "  color: #f1f1f1;\n",
              "}\n",
              "#T_0efdb_row10_col2 {\n",
              "  background-color: #6c00a8;\n",
              "  color: #f1f1f1;\n",
              "}\n",
              "#T_0efdb_row10_col4 {\n",
              "  background-color: #6e00a8;\n",
              "  color: #f1f1f1;\n",
              "}\n",
              "#T_0efdb_row10_col5 {\n",
              "  background-color: #ad2793;\n",
              "  color: #f1f1f1;\n",
              "}\n",
              "#T_0efdb_row10_col6 {\n",
              "  background-color: #9814a0;\n",
              "  color: #f1f1f1;\n",
              "}\n",
              "#T_0efdb_row11_col1 {\n",
              "  background-color: #c23c81;\n",
              "  color: #f1f1f1;\n",
              "}\n",
              "#T_0efdb_row11_col5 {\n",
              "  background-color: #ed7953;\n",
              "  color: #f1f1f1;\n",
              "}\n",
              "#T_0efdb_row12_col1 {\n",
              "  background-color: #7801a8;\n",
              "  color: #f1f1f1;\n",
              "}\n",
              "#T_0efdb_row12_col2 {\n",
              "  background-color: #aa2395;\n",
              "  color: #f1f1f1;\n",
              "}\n",
              "</style>\n",
              "<table id=\"T_0efdb\" class=\"dataframe\">\n",
              "  <thead>\n",
              "    <tr>\n",
              "      <th class=\"blank level0\" >&nbsp;</th>\n",
              "      <th id=\"T_0efdb_level0_col0\" class=\"col_heading level0 col0\" >count</th>\n",
              "      <th id=\"T_0efdb_level0_col1\" class=\"col_heading level0 col1\" >mean</th>\n",
              "      <th id=\"T_0efdb_level0_col2\" class=\"col_heading level0 col2\" >std</th>\n",
              "      <th id=\"T_0efdb_level0_col3\" class=\"col_heading level0 col3\" >min</th>\n",
              "      <th id=\"T_0efdb_level0_col4\" class=\"col_heading level0 col4\" >25%</th>\n",
              "      <th id=\"T_0efdb_level0_col5\" class=\"col_heading level0 col5\" >50%</th>\n",
              "      <th id=\"T_0efdb_level0_col6\" class=\"col_heading level0 col6\" >75%</th>\n",
              "      <th id=\"T_0efdb_level0_col7\" class=\"col_heading level0 col7\" >max</th>\n",
              "    </tr>\n",
              "  </thead>\n",
              "  <tbody>\n",
              "    <tr>\n",
              "      <th id=\"T_0efdb_level0_row0\" class=\"row_heading level0 row0\" >patientid</th>\n",
              "      <td id=\"T_0efdb_row0_col0\" class=\"data row0 col0\" >1000.000000</td>\n",
              "      <td id=\"T_0efdb_row0_col1\" class=\"data row0 col1\" >0.500161</td>\n",
              "      <td id=\"T_0efdb_row0_col2\" class=\"data row0 col2\" >0.292886</td>\n",
              "      <td id=\"T_0efdb_row0_col3\" class=\"data row0 col3\" >0.000000</td>\n",
              "      <td id=\"T_0efdb_row0_col4\" class=\"data row0 col4\" >0.246076</td>\n",
              "      <td id=\"T_0efdb_row0_col5\" class=\"data row0 col5\" >0.490432</td>\n",
              "      <td id=\"T_0efdb_row0_col6\" class=\"data row0 col6\" >0.766475</td>\n",
              "      <td id=\"T_0efdb_row0_col7\" class=\"data row0 col7\" >1.000000</td>\n",
              "    </tr>\n",
              "    <tr>\n",
              "      <th id=\"T_0efdb_level0_row1\" class=\"row_heading level0 row1\" >age</th>\n",
              "      <td id=\"T_0efdb_row1_col0\" class=\"data row1 col0\" >1000.000000</td>\n",
              "      <td id=\"T_0efdb_row1_col1\" class=\"data row1 col1\" >0.487367</td>\n",
              "      <td id=\"T_0efdb_row1_col2\" class=\"data row1 col2\" >0.297746</td>\n",
              "      <td id=\"T_0efdb_row1_col3\" class=\"data row1 col3\" >0.000000</td>\n",
              "      <td id=\"T_0efdb_row1_col4\" class=\"data row1 col4\" >0.233333</td>\n",
              "      <td id=\"T_0efdb_row1_col5\" class=\"data row1 col5\" >0.483333</td>\n",
              "      <td id=\"T_0efdb_row1_col6\" class=\"data row1 col6\" >0.737500</td>\n",
              "      <td id=\"T_0efdb_row1_col7\" class=\"data row1 col7\" >1.000000</td>\n",
              "    </tr>\n",
              "    <tr>\n",
              "      <th id=\"T_0efdb_level0_row2\" class=\"row_heading level0 row2\" >gender</th>\n",
              "      <td id=\"T_0efdb_row2_col0\" class=\"data row2 col0\" >1000.000000</td>\n",
              "      <td id=\"T_0efdb_row2_col1\" class=\"data row2 col1\" >0.765000</td>\n",
              "      <td id=\"T_0efdb_row2_col2\" class=\"data row2 col2\" >0.424211</td>\n",
              "      <td id=\"T_0efdb_row2_col3\" class=\"data row2 col3\" >0.000000</td>\n",
              "      <td id=\"T_0efdb_row2_col4\" class=\"data row2 col4\" >1.000000</td>\n",
              "      <td id=\"T_0efdb_row2_col5\" class=\"data row2 col5\" >1.000000</td>\n",
              "      <td id=\"T_0efdb_row2_col6\" class=\"data row2 col6\" >1.000000</td>\n",
              "      <td id=\"T_0efdb_row2_col7\" class=\"data row2 col7\" >1.000000</td>\n",
              "    </tr>\n",
              "    <tr>\n",
              "      <th id=\"T_0efdb_level0_row3\" class=\"row_heading level0 row3\" >chestpain</th>\n",
              "      <td id=\"T_0efdb_row3_col0\" class=\"data row3 col0\" >1000.000000</td>\n",
              "      <td id=\"T_0efdb_row3_col1\" class=\"data row3 col1\" >0.326667</td>\n",
              "      <td id=\"T_0efdb_row3_col2\" class=\"data row3 col2\" >0.317719</td>\n",
              "      <td id=\"T_0efdb_row3_col3\" class=\"data row3 col3\" >0.000000</td>\n",
              "      <td id=\"T_0efdb_row3_col4\" class=\"data row3 col4\" >0.000000</td>\n",
              "      <td id=\"T_0efdb_row3_col5\" class=\"data row3 col5\" >0.333333</td>\n",
              "      <td id=\"T_0efdb_row3_col6\" class=\"data row3 col6\" >0.666667</td>\n",
              "      <td id=\"T_0efdb_row3_col7\" class=\"data row3 col7\" >1.000000</td>\n",
              "    </tr>\n",
              "    <tr>\n",
              "      <th id=\"T_0efdb_level0_row4\" class=\"row_heading level0 row4\" >restingBP</th>\n",
              "      <td id=\"T_0efdb_row4_col0\" class=\"data row4 col0\" >1000.000000</td>\n",
              "      <td id=\"T_0efdb_row4_col1\" class=\"data row4 col1\" >0.544783</td>\n",
              "      <td id=\"T_0efdb_row4_col2\" class=\"data row4 col2\" >0.282691</td>\n",
              "      <td id=\"T_0efdb_row4_col3\" class=\"data row4 col3\" >0.000000</td>\n",
              "      <td id=\"T_0efdb_row4_col4\" class=\"data row4 col4\" >0.330189</td>\n",
              "      <td id=\"T_0efdb_row4_col5\" class=\"data row4 col5\" >0.500000</td>\n",
              "      <td id=\"T_0efdb_row4_col6\" class=\"data row4 col6\" >0.820755</td>\n",
              "      <td id=\"T_0efdb_row4_col7\" class=\"data row4 col7\" >1.000000</td>\n",
              "    </tr>\n",
              "    <tr>\n",
              "      <th id=\"T_0efdb_level0_row5\" class=\"row_heading level0 row5\" >serumcholestrol</th>\n",
              "      <td id=\"T_0efdb_row5_col0\" class=\"data row5 col0\" >1000.000000</td>\n",
              "      <td id=\"T_0efdb_row5_col1\" class=\"data row5 col1\" >0.517354</td>\n",
              "      <td id=\"T_0efdb_row5_col2\" class=\"data row5 col2\" >0.220006</td>\n",
              "      <td id=\"T_0efdb_row5_col3\" class=\"data row5 col3\" >0.000000</td>\n",
              "      <td id=\"T_0efdb_row5_col4\" class=\"data row5 col4\" >0.391611</td>\n",
              "      <td id=\"T_0efdb_row5_col5\" class=\"data row5 col5\" >0.528239</td>\n",
              "      <td id=\"T_0efdb_row5_col6\" class=\"data row5 col6\" >0.671512</td>\n",
              "      <td id=\"T_0efdb_row5_col7\" class=\"data row5 col7\" >1.000000</td>\n",
              "    </tr>\n",
              "    <tr>\n",
              "      <th id=\"T_0efdb_level0_row6\" class=\"row_heading level0 row6\" >fastingbloodsugar</th>\n",
              "      <td id=\"T_0efdb_row6_col0\" class=\"data row6 col0\" >1000.000000</td>\n",
              "      <td id=\"T_0efdb_row6_col1\" class=\"data row6 col1\" >0.296000</td>\n",
              "      <td id=\"T_0efdb_row6_col2\" class=\"data row6 col2\" >0.456719</td>\n",
              "      <td id=\"T_0efdb_row6_col3\" class=\"data row6 col3\" >0.000000</td>\n",
              "      <td id=\"T_0efdb_row6_col4\" class=\"data row6 col4\" >0.000000</td>\n",
              "      <td id=\"T_0efdb_row6_col5\" class=\"data row6 col5\" >0.000000</td>\n",
              "      <td id=\"T_0efdb_row6_col6\" class=\"data row6 col6\" >1.000000</td>\n",
              "      <td id=\"T_0efdb_row6_col7\" class=\"data row6 col7\" >1.000000</td>\n",
              "    </tr>\n",
              "    <tr>\n",
              "      <th id=\"T_0efdb_level0_row7\" class=\"row_heading level0 row7\" >restingrelectro</th>\n",
              "      <td id=\"T_0efdb_row7_col0\" class=\"data row7 col0\" >1000.000000</td>\n",
              "      <td id=\"T_0efdb_row7_col1\" class=\"data row7 col1\" >0.374000</td>\n",
              "      <td id=\"T_0efdb_row7_col2\" class=\"data row7 col2\" >0.385061</td>\n",
              "      <td id=\"T_0efdb_row7_col3\" class=\"data row7 col3\" >0.000000</td>\n",
              "      <td id=\"T_0efdb_row7_col4\" class=\"data row7 col4\" >0.000000</td>\n",
              "      <td id=\"T_0efdb_row7_col5\" class=\"data row7 col5\" >0.500000</td>\n",
              "      <td id=\"T_0efdb_row7_col6\" class=\"data row7 col6\" >0.500000</td>\n",
              "      <td id=\"T_0efdb_row7_col7\" class=\"data row7 col7\" >1.000000</td>\n",
              "    </tr>\n",
              "    <tr>\n",
              "      <th id=\"T_0efdb_level0_row8\" class=\"row_heading level0 row8\" >maxheartrate</th>\n",
              "      <td id=\"T_0efdb_row8_col0\" class=\"data row8 col0\" >1000.000000</td>\n",
              "      <td id=\"T_0efdb_row8_col1\" class=\"data row8 col1\" >0.568527</td>\n",
              "      <td id=\"T_0efdb_row8_col2\" class=\"data row8 col2\" >0.260994</td>\n",
              "      <td id=\"T_0efdb_row8_col3\" class=\"data row8 col3\" >0.000000</td>\n",
              "      <td id=\"T_0efdb_row8_col4\" class=\"data row8 col4\" >0.372137</td>\n",
              "      <td id=\"T_0efdb_row8_col5\" class=\"data row8 col5\" >0.572519</td>\n",
              "      <td id=\"T_0efdb_row8_col6\" class=\"data row8 col6\" >0.793893</td>\n",
              "      <td id=\"T_0efdb_row8_col7\" class=\"data row8 col7\" >1.000000</td>\n",
              "    </tr>\n",
              "    <tr>\n",
              "      <th id=\"T_0efdb_level0_row9\" class=\"row_heading level0 row9\" >exerciseangia</th>\n",
              "      <td id=\"T_0efdb_row9_col0\" class=\"data row9 col0\" >1000.000000</td>\n",
              "      <td id=\"T_0efdb_row9_col1\" class=\"data row9 col1\" >0.498000</td>\n",
              "      <td id=\"T_0efdb_row9_col2\" class=\"data row9 col2\" >0.500246</td>\n",
              "      <td id=\"T_0efdb_row9_col3\" class=\"data row9 col3\" >0.000000</td>\n",
              "      <td id=\"T_0efdb_row9_col4\" class=\"data row9 col4\" >0.000000</td>\n",
              "      <td id=\"T_0efdb_row9_col5\" class=\"data row9 col5\" >0.000000</td>\n",
              "      <td id=\"T_0efdb_row9_col6\" class=\"data row9 col6\" >1.000000</td>\n",
              "      <td id=\"T_0efdb_row9_col7\" class=\"data row9 col7\" >1.000000</td>\n",
              "    </tr>\n",
              "    <tr>\n",
              "      <th id=\"T_0efdb_level0_row10\" class=\"row_heading level0 row10\" >oldpeak</th>\n",
              "      <td id=\"T_0efdb_row10_col0\" class=\"data row10 col0\" >1000.000000</td>\n",
              "      <td id=\"T_0efdb_row10_col1\" class=\"data row10 col1\" >0.436726</td>\n",
              "      <td id=\"T_0efdb_row10_col2\" class=\"data row10 col2\" >0.277541</td>\n",
              "      <td id=\"T_0efdb_row10_col3\" class=\"data row10 col3\" >0.000000</td>\n",
              "      <td id=\"T_0efdb_row10_col4\" class=\"data row10 col4\" >0.209677</td>\n",
              "      <td id=\"T_0efdb_row10_col5\" class=\"data row10 col5\" >0.387097</td>\n",
              "      <td id=\"T_0efdb_row10_col6\" class=\"data row10 col6\" >0.661290</td>\n",
              "      <td id=\"T_0efdb_row10_col7\" class=\"data row10 col7\" >1.000000</td>\n",
              "    </tr>\n",
              "    <tr>\n",
              "      <th id=\"T_0efdb_level0_row11\" class=\"row_heading level0 row11\" >slope</th>\n",
              "      <td id=\"T_0efdb_row11_col0\" class=\"data row11 col0\" >1000.000000</td>\n",
              "      <td id=\"T_0efdb_row11_col1\" class=\"data row11 col1\" >0.513333</td>\n",
              "      <td id=\"T_0efdb_row11_col2\" class=\"data row11 col2\" >0.334566</td>\n",
              "      <td id=\"T_0efdb_row11_col3\" class=\"data row11 col3\" >0.000000</td>\n",
              "      <td id=\"T_0efdb_row11_col4\" class=\"data row11 col4\" >0.333333</td>\n",
              "      <td id=\"T_0efdb_row11_col5\" class=\"data row11 col5\" >0.666667</td>\n",
              "      <td id=\"T_0efdb_row11_col6\" class=\"data row11 col6\" >0.666667</td>\n",
              "      <td id=\"T_0efdb_row11_col7\" class=\"data row11 col7\" >1.000000</td>\n",
              "    </tr>\n",
              "    <tr>\n",
              "      <th id=\"T_0efdb_level0_row12\" class=\"row_heading level0 row12\" >noofmajorvessels</th>\n",
              "      <td id=\"T_0efdb_row12_col0\" class=\"data row12 col0\" >1000.000000</td>\n",
              "      <td id=\"T_0efdb_row12_col1\" class=\"data row12 col1\" >0.407333</td>\n",
              "      <td id=\"T_0efdb_row12_col2\" class=\"data row12 col2\" >0.325862</td>\n",
              "      <td id=\"T_0efdb_row12_col3\" class=\"data row12 col3\" >0.000000</td>\n",
              "      <td id=\"T_0efdb_row12_col4\" class=\"data row12 col4\" >0.000000</td>\n",
              "      <td id=\"T_0efdb_row12_col5\" class=\"data row12 col5\" >0.333333</td>\n",
              "      <td id=\"T_0efdb_row12_col6\" class=\"data row12 col6\" >0.666667</td>\n",
              "      <td id=\"T_0efdb_row12_col7\" class=\"data row12 col7\" >1.000000</td>\n",
              "    </tr>\n",
              "  </tbody>\n",
              "</table>\n"
            ],
            "text/plain": [
              "<pandas.io.formats.style.Styler at 0x7f9886bed210>"
            ]
          },
          "execution_count": 189,
          "metadata": {},
          "output_type": "execute_result"
        }
      ],
      "source": [
        "scaler = MinMaxScaler(feature_range=(0, 1)).fit_transform(X_disease)\n",
        "X = pd.DataFrame(scaler, columns=X_disease.columns)\n",
        "X.describe().T.style.background_gradient(axis=0, cmap='plasma')"
      ]
    },
    {
      "cell_type": "code",
      "execution_count": null,
      "metadata": {
        "id": "1qwh19yIzNFo"
      },
      "outputs": [],
      "source": [
        "# Define a function to ploting Confusion matrix\n",
        "def plot_confusion_matrix(y_test, y_prediction):\n",
        "    '''Plotting Confusion Matrix'''\n",
        "    cm = metrics.confusion_matrix(y_test, y_prediction)\n",
        "    ax = plt.subplot()\n",
        "    ax = sns.heatmap(cm, annot=True, fmt='', cmap=\"plasma\")\n",
        "    ax.set_xlabel('Predicted labels', fontsize=18)\n",
        "    ax.set_ylabel('True labels', fontsize=18)\n",
        "    ax.set_title('Confusion Matrix', fontsize=25)\n",
        "    ax.xaxis.set_ticklabels(['Absence of Heart Disease','Presence of Heart Disease'])\n",
        "    ax.yaxis.set_ticklabels(['Absence of Heart Disease','Presence of Heart Disease'])\n",
        "    plt.show()"
      ]
    },
    {
      "cell_type": "code",
      "execution_count": null,
      "metadata": {
        "id": "9I-IijjezR9y"
      },
      "outputs": [],
      "source": [
        "# Define a function to ploting Classification report\n",
        "def clfr_plot(y_test, y_pred) :\n",
        "    ''' Plotting Classification report'''\n",
        "    cr = pd.DataFrame(metrics.classification_report(y_test, y_pred_rf, digits=3,\n",
        "                                            output_dict=True)).T\n",
        "    cr.drop(columns='support', inplace=True)\n",
        "    sns.heatmap(cr, cmap='plasma', annot=True, linecolor='white', linewidths=0.5).xaxis.tick_top()"
      ]
    },
    {
      "cell_type": "code",
      "execution_count": null,
      "metadata": {
        "id": "7VXLCzSAzYfk"
      },
      "outputs": [],
      "source": [
        "def clf_plot(y_pred) :\n",
        "    '''\n",
        "    1) Ploting Confusion Matrix\n",
        "    2) Plotting Classification Report'''\n",
        "    cm = metrics.confusion_matrix(y_test, y_pred)\n",
        "    cr = pd.DataFrame(metrics.classification_report(y_test, y_pred, digits=3, output_dict=True)).T\n",
        "    cr.drop(columns='support', inplace=True)\n",
        "\n",
        "    fig, ax = plt.subplots(1, 2, figsize=(15, 5))\n",
        "\n",
        "    # Left: Confusion Matrix\n",
        "    ax[0] = sns.heatmap(cm, annot=True, fmt='', cmap=\"plasma\", ax=ax[0])\n",
        "    ax[0].set_xlabel('Predicted labels', fontsize=18)\n",
        "    ax[0].set_ylabel('True labels', fontsize=18)\n",
        "    ax[0].set_title('Confusion Matrix', fontsize=25)\n",
        "    ax[0].xaxis.set_ticklabels(['Absence of Heart Disease','Presence of Heart Disease'])\n",
        "    ax[0].yaxis.set_ticklabels(['Absence of Heart Disease','Presence of Heart Disease'])\n",
        "\n",
        "    # Right: Classification Report\n",
        "    ax[1] = sns.heatmap(cr, cmap='plasma', annot=True, linecolor='white', linewidths=0.5, ax=ax[1])\n",
        "    ax[1].xaxis.tick_top()\n",
        "    ax[1].set_title('Classification Report', fontsize=25)\n",
        "    plt.show()"
      ]
    },
    {
      "cell_type": "code",
      "execution_count": null,
      "metadata": {
        "colab": {
          "base_uri": "https://localhost:8080/",
          "height": 178
        },
        "id": "-CeM5YhkzbbU",
        "outputId": "cb3d896e-abb3-4641-85a9-26aa7653d928"
      },
      "outputs": [
        {
          "data": {
            "text/html": [
              "<div>\n",
              "<style scoped>\n",
              "    .dataframe tbody tr th:only-of-type {\n",
              "        vertical-align: middle;\n",
              "    }\n",
              "\n",
              "    .dataframe tbody tr th {\n",
              "        vertical-align: top;\n",
              "    }\n",
              "\n",
              "    .dataframe thead th {\n",
              "        text-align: right;\n",
              "    }\n",
              "</style>\n",
              "<table border=\"1\" class=\"dataframe\">\n",
              "  <thead>\n",
              "    <tr style=\"text-align: right;\">\n",
              "      <th></th>\n",
              "      <th>count</th>\n",
              "    </tr>\n",
              "    <tr>\n",
              "      <th>target</th>\n",
              "      <th></th>\n",
              "    </tr>\n",
              "  </thead>\n",
              "  <tbody>\n",
              "    <tr>\n",
              "      <th>Presence of Heart Disease</th>\n",
              "      <td>580</td>\n",
              "    </tr>\n",
              "    <tr>\n",
              "      <th>Absence of Heart Disease</th>\n",
              "      <td>420</td>\n",
              "    </tr>\n",
              "  </tbody>\n",
              "</table>\n",
              "</div><br><label><b>dtype:</b> int64</label>"
            ],
            "text/plain": [
              "target\n",
              "Presence of Heart Disease    580\n",
              "Absence of Heart Disease     420\n",
              "Name: count, dtype: int64"
            ]
          },
          "execution_count": 193,
          "metadata": {},
          "output_type": "execute_result"
        }
      ],
      "source": [
        "df.target.value_counts()"
      ]
    },
    {
      "cell_type": "code",
      "execution_count": null,
      "metadata": {
        "id": "ny2hzaHozfne"
      },
      "outputs": [],
      "source": [
        "# Splite Dataframe\n",
        "X_train, X_test, y_train, y_test = train_test_split(X, y, test_size=0.25, random_state=0)"
      ]
    },
    {
      "cell_type": "code",
      "execution_count": null,
      "metadata": {
        "colab": {
          "base_uri": "https://localhost:8080/"
        },
        "id": "shRqQEIEzjRx",
        "outputId": "64d219e2-f604-4b26-e7f5-aed4499d7582"
      },
      "outputs": [
        {
          "name": "stdout",
          "output_type": "stream",
          "text": [
            "Tuned hyper parameters :  {'criterion': 'entropy', 'max_features': 'log2', 'n_estimators': 500}\n",
            "accuracy :  0.9800497866287339\n"
          ]
        }
      ],
      "source": [
        "# Dictionary to define parameters to test in algorithm\n",
        "parameters = {\n",
        "    'n_estimators' : [50, 150, 500],\n",
        "    'criterion' : ['gini', 'entropy', 'log_loss'],\n",
        "    'max_features' : ['sqrt', 'log2']\n",
        "}\n",
        "\n",
        "rf = RandomForestClassifier(n_jobs=-1)\n",
        "rf_cv = GridSearchCV(estimator=rf, cv=20, param_grid=parameters).fit(X_train, y_train)\n",
        "\n",
        "print('Tuned hyper parameters : ', rf_cv.best_params_)\n",
        "print('accuracy : ', rf_cv.best_score_)"
      ]
    },
    {
      "cell_type": "code",
      "execution_count": null,
      "metadata": {
        "id": "rExfhGGE02II"
      },
      "outputs": [],
      "source": [
        "rf = RandomForestClassifier(**rf_cv.best_params_).fit(X_train, y_train)"
      ]
    },
    {
      "cell_type": "code",
      "execution_count": null,
      "metadata": {
        "colab": {
          "base_uri": "https://localhost:8080/"
        },
        "id": "Imja1Wq71EEP",
        "outputId": "78a563d0-b0fe-48a8-e54a-e8cb79031279"
      },
      "outputs": [
        {
          "name": "stdout",
          "output_type": "stream",
          "text": [
            "RandomForestClassifier score :  0.98\n"
          ]
        }
      ],
      "source": [
        "y_pred_rf = rf.predict(X_test)\n",
        "\n",
        "rf_score = round(rf.score(X_test, y_test), 3)\n",
        "print('RandomForestClassifier score : ', rf_score)"
      ]
    },
    {
      "cell_type": "code",
      "execution_count": null,
      "metadata": {
        "colab": {
          "base_uri": "https://localhost:8080/",
          "height": 178
        },
        "id": "Q78-gUmD1JYd",
        "outputId": "d15c6147-150d-4183-ea20-43a4f97d507f"
      },
      "outputs": [
        {
          "data": {
            "text/html": [
              "<div>\n",
              "<style scoped>\n",
              "    .dataframe tbody tr th:only-of-type {\n",
              "        vertical-align: middle;\n",
              "    }\n",
              "\n",
              "    .dataframe tbody tr th {\n",
              "        vertical-align: top;\n",
              "    }\n",
              "\n",
              "    .dataframe thead th {\n",
              "        text-align: right;\n",
              "    }\n",
              "</style>\n",
              "<table border=\"1\" class=\"dataframe\">\n",
              "  <thead>\n",
              "    <tr style=\"text-align: right;\">\n",
              "      <th></th>\n",
              "      <th>count</th>\n",
              "    </tr>\n",
              "    <tr>\n",
              "      <th>target</th>\n",
              "      <th></th>\n",
              "    </tr>\n",
              "  </thead>\n",
              "  <tbody>\n",
              "    <tr>\n",
              "      <th>Presence of Heart Disease</th>\n",
              "      <td>132</td>\n",
              "    </tr>\n",
              "    <tr>\n",
              "      <th>Absence of Heart Disease</th>\n",
              "      <td>118</td>\n",
              "    </tr>\n",
              "  </tbody>\n",
              "</table>\n",
              "</div><br><label><b>dtype:</b> int64</label>"
            ],
            "text/plain": [
              "target\n",
              "Presence of Heart Disease    132\n",
              "Absence of Heart Disease     118\n",
              "Name: count, dtype: int64"
            ]
          },
          "execution_count": 134,
          "metadata": {},
          "output_type": "execute_result"
        }
      ],
      "source": [
        "y_test.value_counts()"
      ]
    },
    {
      "cell_type": "code",
      "execution_count": null,
      "metadata": {
        "colab": {
          "base_uri": "https://localhost:8080/"
        },
        "id": "7Nnntp_IC5TU",
        "outputId": "3a5c4d56-e91e-40ae-d336-22619a64ff78"
      },
      "outputs": [
        {
          "name": "stdout",
          "output_type": "stream",
          "text": [
            "Confusion Matrix:\n",
            "[[114   4]\n",
            " [  1 131]]\n",
            "\n",
            "Classification Report:\n",
            "                           precision    recall  f1-score   support\n",
            "\n",
            " Absence of Heart Disease       0.99      0.97      0.98       118\n",
            "Presence of Heart Disease       0.97      0.99      0.98       132\n",
            "\n",
            "                 accuracy                           0.98       250\n",
            "                macro avg       0.98      0.98      0.98       250\n",
            "             weighted avg       0.98      0.98      0.98       250\n",
            "\n"
          ]
        }
      ],
      "source": [
        "# Get the confusion matrix\n",
        "cm = metrics.confusion_matrix(y_test, y_pred_rf)\n",
        "print(\"Confusion Matrix:\")\n",
        "print(cm)\n",
        "\n",
        "# Get the classification report\n",
        "cr = metrics.classification_report(y_test, y_pred_rf)\n",
        "print(\"\\nClassification Report:\")\n",
        "print(cr)"
      ]
    },
    {
      "cell_type": "code",
      "execution_count": null,
      "metadata": {
        "colab": {
          "base_uri": "https://localhost:8080/"
        },
        "id": "Bu3xL87V3zTf",
        "outputId": "089e1317-2db3-4d1c-f375-6abfac1fc790"
      },
      "outputs": [
        {
          "name": "stdout",
          "output_type": "stream",
          "text": [
            "Tuned hyper parameters :  {'C': 10, 'class_weight': 'balanced', 'solver': 'lbfgs'}\n",
            "accuracy :  0.96\n"
          ]
        }
      ],
      "source": [
        "# Dictionary to define parameters to test in algorithm\n",
        "parameters = {\n",
        "    'C' : [0.001, 0.01, 0.1, 1.0, 10, 100, 1000],\n",
        "    'class_weight' : ['balanced'],\n",
        "    'solver' : ['lbfgs', 'liblinear', 'newton-cg', 'newton-cholesky', 'sag', 'saga']\n",
        "}\n",
        "\n",
        "lr = LogisticRegression()\n",
        "lr_cv = GridSearchCV(estimator=lr, param_grid=parameters, cv=10).fit(X_train, y_train)\n",
        "\n",
        "print('Tuned hyper parameters : ', lr_cv.best_params_)\n",
        "print('accuracy : ', lr_cv.best_score_)"
      ]
    },
    {
      "cell_type": "code",
      "execution_count": null,
      "metadata": {
        "id": "IvOZpRpA4E9C"
      },
      "outputs": [],
      "source": [
        "lr = LogisticRegression(**lr_cv.best_params_).fit(X_train, y_train)"
      ]
    },
    {
      "cell_type": "code",
      "execution_count": null,
      "metadata": {
        "colab": {
          "base_uri": "https://localhost:8080/"
        },
        "id": "zIt_Bkq_4IKL",
        "outputId": "0a6c6cd5-e760-4152-cc46-81c84e1535b7"
      },
      "outputs": [
        {
          "name": "stdout",
          "output_type": "stream",
          "text": [
            "LogisticRegression score :  0.976\n"
          ]
        }
      ],
      "source": [
        "y_pred_lr = lr.predict(X_test)\n",
        "\n",
        "lr_score = round(lr.score(X_test, y_test), 3)\n",
        "print('LogisticRegression score : ', lr_score)\n"
      ]
    },
    {
      "cell_type": "code",
      "execution_count": null,
      "metadata": {
        "colab": {
          "base_uri": "https://localhost:8080/"
        },
        "id": "G_lE6USzBtRA",
        "outputId": "395aaf1e-a4f1-4aa7-dde9-b54b4327d510"
      },
      "outputs": [
        {
          "name": "stdout",
          "output_type": "stream",
          "text": [
            "Confusion Matrix:\n",
            "[[114   4]\n",
            " [  2 130]]\n",
            "\n",
            "Classification Report:\n",
            "                           precision    recall  f1-score   support\n",
            "\n",
            " Absence of Heart Disease       0.98      0.97      0.97       118\n",
            "Presence of Heart Disease       0.97      0.98      0.98       132\n",
            "\n",
            "                 accuracy                           0.98       250\n",
            "                macro avg       0.98      0.98      0.98       250\n",
            "             weighted avg       0.98      0.98      0.98       250\n",
            "\n"
          ]
        }
      ],
      "source": [
        "# Get the confusion matrix\n",
        "cm = metrics.confusion_matrix(y_test, y_pred_lr)\n",
        "print(\"Confusion Matrix:\")\n",
        "print(cm)\n",
        "\n",
        "# Get the classification report\n",
        "cr = metrics.classification_report(y_test, y_pred_lr)\n",
        "print(\"\\nClassification Report:\")\n",
        "print(cr)"
      ]
    },
    {
      "cell_type": "code",
      "execution_count": null,
      "metadata": {
        "colab": {
          "base_uri": "https://localhost:8080/"
        },
        "id": "oGoWkRNs4Np2",
        "outputId": "1e2b85b5-c7fb-4f47-bbd9-70c1445aa346"
      },
      "outputs": [
        {
          "name": "stdout",
          "output_type": "stream",
          "text": [
            "Tuned hyper parameters :  {'C': 10, 'gamma': 0.1}\n",
            "accuracy :  0.9626666666666667\n"
          ]
        }
      ],
      "source": [
        "# Dictionary to define parameters to test in algorithm\n",
        "parameters = {\n",
        "    'C' : [0.001, 0.01, 0.1, 1.0, 10, 100, 1000],\n",
        "    'gamma' : [0.001, 0.01, 0.1, 1.0, 10, 100, 1000],\n",
        "}\n",
        "\n",
        "svc = SVC()\n",
        "svc_cv = GridSearchCV(estimator=svc, param_grid=parameters, cv=10).fit(X_train, y_train)\n",
        "\n",
        "print('Tuned hyper parameters : ', svc_cv.best_params_)\n",
        "print('accuracy : ', svc_cv.best_score_)"
      ]
    },
    {
      "cell_type": "code",
      "execution_count": null,
      "metadata": {
        "colab": {
          "base_uri": "https://localhost:8080/"
        },
        "id": "eoX1yk5c8Nsw",
        "outputId": "1b861693-41a1-4c02-e600-e80f9a8381da"
      },
      "outputs": [
        {
          "name": "stdout",
          "output_type": "stream",
          "text": [
            "SVC Score :  0.968\n"
          ]
        }
      ],
      "source": [
        "# Model\n",
        "svc = SVC(**svc_cv.best_params_).fit(X_train, y_train)\n",
        "y_pred_svc = svc.predict(X_test)\n",
        "\n",
        "svc_score = round(svc.score(X_test, y_test), 3)\n",
        "print('SVC Score : ', svc_score)"
      ]
    },
    {
      "cell_type": "code",
      "execution_count": null,
      "metadata": {
        "colab": {
          "base_uri": "https://localhost:8080/"
        },
        "id": "Vti5kMopDTDc",
        "outputId": "92948383-7903-4d8f-a6eb-e93eba74525a"
      },
      "outputs": [
        {
          "name": "stdout",
          "output_type": "stream",
          "text": [
            "Confusion Matrix:\n",
            "[[112   6]\n",
            " [  2 130]]\n",
            "\n",
            "Classification Report:\n",
            "                           precision    recall  f1-score   support\n",
            "\n",
            " Absence of Heart Disease       0.98      0.95      0.97       118\n",
            "Presence of Heart Disease       0.96      0.98      0.97       132\n",
            "\n",
            "                 accuracy                           0.97       250\n",
            "                macro avg       0.97      0.97      0.97       250\n",
            "             weighted avg       0.97      0.97      0.97       250\n",
            "\n"
          ]
        }
      ],
      "source": [
        "# Get the confusion matrix\n",
        "cm = metrics.confusion_matrix(y_test, y_pred_svc)\n",
        "print(\"Confusion Matrix:\")\n",
        "print(cm)\n",
        "\n",
        "# Get the classification report\n",
        "cr = metrics.classification_report(y_test, y_pred_svc)\n",
        "print(\"\\nClassification Report:\")\n",
        "print(cr)"
      ]
    },
    {
      "cell_type": "code",
      "execution_count": null,
      "metadata": {
        "colab": {
          "base_uri": "https://localhost:8080/"
        },
        "id": "QnUPdaxT8Soy",
        "outputId": "32ba7b9c-78b8-49e2-9552-5280cd48615a"
      },
      "outputs": [
        {
          "name": "stdout",
          "output_type": "stream",
          "text": [
            "Tuned hyper parameters :  {'criterion': 'entropy', 'max_depth': np.int64(19), 'splitter': 'random'}\n",
            "accuracy :  0.9719999999999999\n"
          ]
        }
      ],
      "source": [
        "# Dictionary to define parameters to test in algorithm\n",
        "parameters = {\n",
        "    'criterion' : ['gini', 'entropy', 'log_loss'],\n",
        "    'splitter' : ['best', 'random'],\n",
        "    'max_depth' : list(np.arange(4, 30, 1))\n",
        "        }\n",
        "\n",
        "tree = DecisionTreeClassifier()\n",
        "tree_cv = GridSearchCV(estimator=tree, cv=10, param_grid=parameters).fit(X_train, y_train)\n",
        "\n",
        "\n",
        "print('Tuned hyper parameters : ', tree_cv.best_params_)\n",
        "print('accuracy : ', tree_cv.best_score_)"
      ]
    },
    {
      "cell_type": "code",
      "execution_count": null,
      "metadata": {
        "colab": {
          "base_uri": "https://localhost:8080/"
        },
        "id": "-vNQv4OE8ei3",
        "outputId": "ab1caf87-27ec-42e2-beb3-102c6d986bf1"
      },
      "outputs": [
        {
          "name": "stdout",
          "output_type": "stream",
          "text": [
            "DecisionTreeClassifier Score :  0.972\n"
          ]
        }
      ],
      "source": [
        "tree = DecisionTreeClassifier(**tree_cv.best_params_).fit(X_train, y_train)\n",
        "y_pred_tree = tree.predict(X_test)\n",
        "\n",
        "tree_score = round(tree.score(X_test, y_test), 3)\n",
        "print('DecisionTreeClassifier Score : ', tree_score)"
      ]
    },
    {
      "cell_type": "code",
      "execution_count": null,
      "metadata": {
        "colab": {
          "base_uri": "https://localhost:8080/"
        },
        "id": "zolYzKxJDfo5",
        "outputId": "e8ca8b9b-ac08-4550-dca2-3f7fb0de3838"
      },
      "outputs": [
        {
          "name": "stdout",
          "output_type": "stream",
          "text": [
            "Confusion Matrix:\n",
            "[[113   5]\n",
            " [  2 130]]\n",
            "\n",
            "Classification Report:\n",
            "                           precision    recall  f1-score   support\n",
            "\n",
            " Absence of Heart Disease       0.98      0.96      0.97       118\n",
            "Presence of Heart Disease       0.96      0.98      0.97       132\n",
            "\n",
            "                 accuracy                           0.97       250\n",
            "                macro avg       0.97      0.97      0.97       250\n",
            "             weighted avg       0.97      0.97      0.97       250\n",
            "\n"
          ]
        }
      ],
      "source": [
        "# Get the confusion matrix\n",
        "cm = metrics.confusion_matrix(y_test, y_pred_tree)\n",
        "print(\"Confusion Matrix:\")\n",
        "print(cm)\n",
        "\n",
        "# Get the classification report\n",
        "cr = metrics.classification_report(y_test, y_pred_tree)\n",
        "print(\"\\nClassification Report:\")\n",
        "print(cr)"
      ]
    },
    {
      "cell_type": "code",
      "execution_count": null,
      "metadata": {
        "id": "4xHUiK_g9E9U"
      },
      "outputs": [],
      "source": [
        "result = pd.DataFrame({\n",
        "    'Algorithm' : ['RandomForestClassifier', 'LogisticRegression', 'SVC', 'DecisionTreeClassifier'],\n",
        "    'Score' : [rf_score, lr_score, svc_score, tree_score]\n",
        "})\n",
        "\n",
        "result.sort_values(by='Score', inplace=True)"
      ]
    },
    {
      "cell_type": "code",
      "execution_count": null,
      "metadata": {
        "id": "jop0bXUM9ZSn"
      },
      "outputs": [],
      "source": [
        "sns.set_palette(\"viridis\")"
      ]
    },
    {
      "cell_type": "code",
      "execution_count": null,
      "metadata": {
        "colab": {
          "base_uri": "https://localhost:8080/",
          "height": 465
        },
        "id": "zk3xbvVe9dG5",
        "outputId": "4e1a5e94-da75-4bc2-c8e9-9cd5ff021c1b"
      },
      "outputs": [
        {
          "data": {
            "image/png": "[encoded data removed]",
            "text/plain": [
              "<Figure size 1000x500 with 1 Axes>"
            ]
          },
          "metadata": {},
          "output_type": "display_data"
        }
      ],
      "source": [
        "fig, ax = plt.subplots(1, 1, figsize=(10, 5))\n",
        "\n",
        "sns.barplot(x='Algorithm', y='Score', data=result)\n",
        "ax.bar_label(ax.containers[0], fmt='%.3f')\n",
        "ax.set_xticklabels(labels=result.Algorithm, rotation=360)\n",
        "plt.show()"
      ]
    },
    {
      "cell_type": "code",
      "execution_count": null,
      "metadata": {
        "id": "vt1Sq9kY9tcj"
      },
      "outputs": [],
      "source": [
        "# Model\n",
        "rf = RandomForestClassifier(**rf_cv.best_params_)"
      ]
    },
    {
      "cell_type": "code",
      "execution_count": null,
      "metadata": {
        "colab": {
          "base_uri": "https://localhost:8080/",
          "height": 97
        },
        "id": "H6uIEraE90LH",
        "outputId": "10ce6de7-1f61-4f81-d28b-9f19e4870caf"
      },
      "outputs": [
        {
          "data": {
            "text/html": [
              "<style>#sk-container-id-3 {\n",
              "  /* Definition of color scheme common for light and dark mode */\n",
              "  --sklearn-color-text: #000;\n",
              "  --sklearn-color-text-muted: #666;\n",
              "  --sklearn-color-line: gray;\n",
              "  /* Definition of color scheme for unfitted estimators */\n",
              "  --sklearn-color-unfitted-level-0: #fff5e6;\n",
              "  --sklearn-color-unfitted-level-1: #f6e4d2;\n",
              "  --sklearn-color-unfitted-level-2: #ffe0b3;\n",
              "  --sklearn-color-unfitted-level-3: chocolate;\n",
              "  /* Definition of color scheme for fitted estimators */\n",
              "  --sklearn-color-fitted-level-0: #f0f8ff;\n",
              "  --sklearn-color-fitted-level-1: #d4ebff;\n",
              "  --sklearn-color-fitted-level-2: #b3dbfd;\n",
              "  --sklearn-color-fitted-level-3: cornflowerblue;\n",
              "\n",
              "  /* Specific color for light theme */\n",
              "  --sklearn-color-text-on-default-background: var(--sg-text-color, var(--theme-code-foreground, var(--jp-content-font-color1, black)));\n",
              "  --sklearn-color-background: var(--sg-background-color, var(--theme-background, var(--jp-layout-color0, white)));\n",
              "  --sklearn-color-border-box: var(--sg-text-color, var(--theme-code-foreground, var(--jp-content-font-color1, black)));\n",
              "  --sklearn-color-icon: #696969;\n",
              "\n",
              "  @media (prefers-color-scheme: dark) {\n",
              "    /* Redefinition of color scheme for dark theme */\n",
              "    --sklearn-color-text-on-default-background: var(--sg-text-color, var(--theme-code-foreground, var(--jp-content-font-color1, white)));\n",
              "    --sklearn-color-background: var(--sg-background-color, var(--theme-background, var(--jp-layout-color0, #111)));\n",
              "    --sklearn-color-border-box: var(--sg-text-color, var(--theme-code-foreground, var(--jp-content-font-color1, white)));\n",
              "    --sklearn-color-icon: #878787;\n",
              "  }\n",
              "}\n",
              "\n",
              "#sk-container-id-3 {\n",
              "  color: var(--sklearn-color-text);\n",
              "}\n",
              "\n",
              "#sk-container-id-3 pre {\n",
              "  padding: 0;\n",
              "}\n",
              "\n",
              "#sk-container-id-3 input.sk-hidden--visually {\n",
              "  border: 0;\n",
              "  clip: rect(1px 1px 1px 1px);\n",
              "  clip: rect(1px, 1px, 1px, 1px);\n",
              "  height: 1px;\n",
              "  margin: -1px;\n",
              "  overflow: hidden;\n",
              "  padding: 0;\n",
              "  position: absolute;\n",
              "  width: 1px;\n",
              "}\n",
              "\n",
              "#sk-container-id-3 div.sk-dashed-wrapped {\n",
              "  border: 1px dashed var(--sklearn-color-line);\n",
              "  margin: 0 0.4em 0.5em 0.4em;\n",
              "  box-sizing: border-box;\n",
              "  padding-bottom: 0.4em;\n",
              "  background-color: var(--sklearn-color-background);\n",
              "}\n",
              "\n",
              "#sk-container-id-3 div.sk-container {\n",
              "  /* jupyter's `normalize.less` sets `[hidden] { display: none; }`\n",
              "     but bootstrap.min.css set `[hidden] { display: none !important; }`\n",
              "     so we also need the `!important` here to be able to override the\n",
              "     default hidden behavior on the sphinx rendered scikit-learn.org.\n",
              "     See: https://github.com/scikit-learn/scikit-learn/issues/21755 */\n",
              "  display: inline-block !important;\n",
              "  position: relative;\n",
              "}\n",
              "\n",
              "#sk-container-id-3 div.sk-text-repr-fallback {\n",
              "  display: none;\n",
              "}\n",
              "\n",
              "div.sk-parallel-item,\n",
              "div.sk-serial,\n",
              "div.sk-item {\n",
              "  /* draw centered vertical line to link estimators */\n",
              "  background-image: linear-gradient(var(--sklearn-color-text-on-default-background), var(--sklearn-color-text-on-default-background));\n",
              "  background-size: 2px 100%;\n",
              "  background-repeat: no-repeat;\n",
              "  background-position: center center;\n",
              "}\n",
              "\n",
              "/* Parallel-specific style estimator block */\n",
              "\n",
              "#sk-container-id-3 div.sk-parallel-item::after {\n",
              "  content: \"\";\n",
              "  width: 100%;\n",
              "  border-bottom: 2px solid var(--sklearn-color-text-on-default-background);\n",
              "  flex-grow: 1;\n",
              "}\n",
              "\n",
              "#sk-container-id-3 div.sk-parallel {\n",
              "  display: flex;\n",
              "  align-items: stretch;\n",
              "  justify-content: center;\n",
              "  background-color: var(--sklearn-color-background);\n",
              "  position: relative;\n",
              "}\n",
              "\n",
              "#sk-container-id-3 div.sk-parallel-item {\n",
              "  display: flex;\n",
              "  flex-direction: column;\n",
              "}\n",
              "\n",
              "#sk-container-id-3 div.sk-parallel-item:first-child::after {\n",
              "  align-self: flex-end;\n",
              "  width: 50%;\n",
              "}\n",
              "\n",
              "#sk-container-id-3 div.sk-parallel-item:last-child::after {\n",
              "  align-self: flex-start;\n",
              "  width: 50%;\n",
              "}\n",
              "\n",
              "#sk-container-id-3 div.sk-parallel-item:only-child::after {\n",
              "  width: 0;\n",
              "}\n",
              "\n",
              "/* Serial-specific style estimator block */\n",
              "\n",
              "#sk-container-id-3 div.sk-serial {\n",
              "  display: flex;\n",
              "  flex-direction: column;\n",
              "  align-items: center;\n",
              "  background-color: var(--sklearn-color-background);\n",
              "  padding-right: 1em;\n",
              "  padding-left: 1em;\n",
              "}\n",
              "\n",
              "\n",
              "/* Toggleable style: style used for estimator/Pipeline/ColumnTransformer box that is\n",
              "clickable and can be expanded/collapsed.\n",
              "- Pipeline and ColumnTransformer use this feature and define the default style\n",
              "- Estimators will overwrite some part of the style using the `sk-estimator` class\n",
              "*/\n",
              "\n",
              "/* Pipeline and ColumnTransformer style (default) */\n",
              "\n",
              "#sk-container-id-3 div.sk-toggleable {\n",
              "  /* Default theme specific background. It is overwritten whether we have a\n",
              "  specific estimator or a Pipeline/ColumnTransformer */\n",
              "  background-color: var(--sklearn-color-background);\n",
              "}\n",
              "\n",
              "/* Toggleable label */\n",
              "#sk-container-id-3 label.sk-toggleable__label {\n",
              "  cursor: pointer;\n",
              "  display: flex;\n",
              "  width: 100%;\n",
              "  margin-bottom: 0;\n",
              "  padding: 0.5em;\n",
              "  box-sizing: border-box;\n",
              "  text-align: center;\n",
              "  align-items: start;\n",
              "  justify-content: space-between;\n",
              "  gap: 0.5em;\n",
              "}\n",
              "\n",
              "#sk-container-id-3 label.sk-toggleable__label .caption {\n",
              "  font-size: 0.6rem;\n",
              "  font-weight: lighter;\n",
              "  color: var(--sklearn-color-text-muted);\n",
              "}\n",
              "\n",
              "#sk-container-id-3 label.sk-toggleable__label-arrow:before {\n",
              "  /* Arrow on the left of the label */\n",
              "  content: \"▸\";\n",
              "  float: left;\n",
              "  margin-right: 0.25em;\n",
              "  color: var(--sklearn-color-icon);\n",
              "}\n",
              "\n",
              "#sk-container-id-3 label.sk-toggleable__label-arrow:hover:before {\n",
              "  color: var(--sklearn-color-text);\n",
              "}\n",
              "\n",
              "/* Toggleable content - dropdown */\n",
              "\n",
              "#sk-container-id-3 div.sk-toggleable__content {\n",
              "  max-height: 0;\n",
              "  max-width: 0;\n",
              "  overflow: hidden;\n",
              "  text-align: left;\n",
              "  /* unfitted */\n",
              "  background-color: var(--sklearn-color-unfitted-level-0);\n",
              "}\n",
              "\n",
              "#sk-container-id-3 div.sk-toggleable__content.fitted {\n",
              "  /* fitted */\n",
              "  background-color: var(--sklearn-color-fitted-level-0);\n",
              "}\n",
              "\n",
              "#sk-container-id-3 div.sk-toggleable__content pre {\n",
              "  margin: 0.2em;\n",
              "  border-radius: 0.25em;\n",
              "  color: var(--sklearn-color-text);\n",
              "  /* unfitted */\n",
              "  background-color: var(--sklearn-color-unfitted-level-0);\n",
              "}\n",
              "\n",
              "#sk-container-id-3 div.sk-toggleable__content.fitted pre {\n",
              "  /* unfitted */\n",
              "  background-color: var(--sklearn-color-fitted-level-0);\n",
              "}\n",
              "\n",
              "#sk-container-id-3 input.sk-toggleable__control:checked~div.sk-toggleable__content {\n",
              "  /* Expand drop-down */\n",
              "  max-height: 200px;\n",
              "  max-width: 100%;\n",
              "  overflow: auto;\n",
              "}\n",
              "\n",
              "#sk-container-id-3 input.sk-toggleable__control:checked~label.sk-toggleable__label-arrow:before {\n",
              "  content: \"▾\";\n",
              "}\n",
              "\n",
              "/* Pipeline/ColumnTransformer-specific style */\n",
              "\n",
              "#sk-container-id-3 div.sk-label input.sk-toggleable__control:checked~label.sk-toggleable__label {\n",
              "  color: var(--sklearn-color-text);\n",
              "  background-color: var(--sklearn-color-unfitted-level-2);\n",
              "}\n",
              "\n",
              "#sk-container-id-3 div.sk-label.fitted input.sk-toggleable__control:checked~label.sk-toggleable__label {\n",
              "  background-color: var(--sklearn-color-fitted-level-2);\n",
              "}\n",
              "\n",
              "/* Estimator-specific style */\n",
              "\n",
              "/* Colorize estimator box */\n",
              "#sk-container-id-3 div.sk-estimator input.sk-toggleable__control:checked~label.sk-toggleable__label {\n",
              "  /* unfitted */\n",
              "  background-color: var(--sklearn-color-unfitted-level-2);\n",
              "}\n",
              "\n",
              "#sk-container-id-3 div.sk-estimator.fitted input.sk-toggleable__control:checked~label.sk-toggleable__label {\n",
              "  /* fitted */\n",
              "  background-color: var(--sklearn-color-fitted-level-2);\n",
              "}\n",
              "\n",
              "#sk-container-id-3 div.sk-label label.sk-toggleable__label,\n",
              "#sk-container-id-3 div.sk-label label {\n",
              "  /* The background is the default theme color */\n",
              "  color: var(--sklearn-color-text-on-default-background);\n",
              "}\n",
              "\n",
              "/* On hover, darken the color of the background */\n",
              "#sk-container-id-3 div.sk-label:hover label.sk-toggleable__label {\n",
              "  color: var(--sklearn-color-text);\n",
              "  background-color: var(--sklearn-color-unfitted-level-2);\n",
              "}\n",
              "\n",
              "/* Label box, darken color on hover, fitted */\n",
              "#sk-container-id-3 div.sk-label.fitted:hover label.sk-toggleable__label.fitted {\n",
              "  color: var(--sklearn-color-text);\n",
              "  background-color: var(--sklearn-color-fitted-level-2);\n",
              "}\n",
              "\n",
              "/* Estimator label */\n",
              "\n",
              "#sk-container-id-3 div.sk-label label {\n",
              "  font-family: monospace;\n",
              "  font-weight: bold;\n",
              "  display: inline-block;\n",
              "  line-height: 1.2em;\n",
              "}\n",
              "\n",
              "#sk-container-id-3 div.sk-label-container {\n",
              "  text-align: center;\n",
              "}\n",
              "\n",
              "/* Estimator-specific */\n",
              "#sk-container-id-3 div.sk-estimator {\n",
              "  font-family: monospace;\n",
              "  border: 1px dotted var(--sklearn-color-border-box);\n",
              "  border-radius: 0.25em;\n",
              "  box-sizing: border-box;\n",
              "  margin-bottom: 0.5em;\n",
              "  /* unfitted */\n",
              "  background-color: var(--sklearn-color-unfitted-level-0);\n",
              "}\n",
              "\n",
              "#sk-container-id-3 div.sk-estimator.fitted {\n",
              "  /* fitted */\n",
              "  background-color: var(--sklearn-color-fitted-level-0);\n",
              "}\n",
              "\n",
              "/* on hover */\n",
              "#sk-container-id-3 div.sk-estimator:hover {\n",
              "  /* unfitted */\n",
              "  background-color: var(--sklearn-color-unfitted-level-2);\n",
              "}\n",
              "\n",
              "#sk-container-id-3 div.sk-estimator.fitted:hover {\n",
              "  /* fitted */\n",
              "  background-color: var(--sklearn-color-fitted-level-2);\n",
              "}\n",
              "\n",
              "/* Specification for estimator info (e.g. \"i\" and \"?\") */\n",
              "\n",
              "/* Common style for \"i\" and \"?\" */\n",
              "\n",
              ".sk-estimator-doc-link,\n",
              "a:link.sk-estimator-doc-link,\n",
              "a:visited.sk-estimator-doc-link {\n",
              "  float: right;\n",
              "  font-size: smaller;\n",
              "  line-height: 1em;\n",
              "  font-family: monospace;\n",
              "  background-color: var(--sklearn-color-background);\n",
              "  border-radius: 1em;\n",
              "  height: 1em;\n",
              "  width: 1em;\n",
              "  text-decoration: none !important;\n",
              "  margin-left: 0.5em;\n",
              "  text-align: center;\n",
              "  /* unfitted */\n",
              "  border: var(--sklearn-color-unfitted-level-1) 1pt solid;\n",
              "  color: var(--sklearn-color-unfitted-level-1);\n",
              "}\n",
              "\n",
              ".sk-estimator-doc-link.fitted,\n",
              "a:link.sk-estimator-doc-link.fitted,\n",
              "a:visited.sk-estimator-doc-link.fitted {\n",
              "  /* fitted */\n",
              "  border: var(--sklearn-color-fitted-level-1) 1pt solid;\n",
              "  color: var(--sklearn-color-fitted-level-1);\n",
              "}\n",
              "\n",
              "/* On hover */\n",
              "div.sk-estimator:hover .sk-estimator-doc-link:hover,\n",
              ".sk-estimator-doc-link:hover,\n",
              "div.sk-label-container:hover .sk-estimator-doc-link:hover,\n",
              ".sk-estimator-doc-link:hover {\n",
              "  /* unfitted */\n",
              "  background-color: var(--sklearn-color-unfitted-level-3);\n",
              "  color: var(--sklearn-color-background);\n",
              "  text-decoration: none;\n",
              "}\n",
              "\n",
              "div.sk-estimator.fitted:hover .sk-estimator-doc-link.fitted:hover,\n",
              ".sk-estimator-doc-link.fitted:hover,\n",
              "div.sk-label-container:hover .sk-estimator-doc-link.fitted:hover,\n",
              ".sk-estimator-doc-link.fitted:hover {\n",
              "  /* fitted */\n",
              "  background-color: var(--sklearn-color-fitted-level-3);\n",
              "  color: var(--sklearn-color-background);\n",
              "  text-decoration: none;\n",
              "}\n",
              "\n",
              "/* Span, style for the box shown on hovering the info icon */\n",
              ".sk-estimator-doc-link span {\n",
              "  display: none;\n",
              "  z-index: 9999;\n",
              "  position: relative;\n",
              "  font-weight: normal;\n",
              "  right: .2ex;\n",
              "  padding: .5ex;\n",
              "  margin: .5ex;\n",
              "  width: min-content;\n",
              "  min-width: 20ex;\n",
              "  max-width: 50ex;\n",
              "  color: var(--sklearn-color-text);\n",
              "  box-shadow: 2pt 2pt 4pt #999;\n",
              "  /* unfitted */\n",
              "  background: var(--sklearn-color-unfitted-level-0);\n",
              "  border: .5pt solid var(--sklearn-color-unfitted-level-3);\n",
              "}\n",
              "\n",
              ".sk-estimator-doc-link.fitted span {\n",
              "  /* fitted */\n",
              "  background: var(--sklearn-color-fitted-level-0);\n",
              "  border: var(--sklearn-color-fitted-level-3);\n",
              "}\n",
              "\n",
              ".sk-estimator-doc-link:hover span {\n",
              "  display: block;\n",
              "}\n",
              "\n",
              "/* \"?\"-specific style due to the `<a>` HTML tag */\n",
              "\n",
              "#sk-container-id-3 a.estimator_doc_link {\n",
              "  float: right;\n",
              "  font-size: 1rem;\n",
              "  line-height: 1em;\n",
              "  font-family: monospace;\n",
              "  background-color: var(--sklearn-color-background);\n",
              "  border-radius: 1rem;\n",
              "  height: 1rem;\n",
              "  width: 1rem;\n",
              "  text-decoration: none;\n",
              "  /* unfitted */\n",
              "  color: var(--sklearn-color-unfitted-level-1);\n",
              "  border: var(--sklearn-color-unfitted-level-1) 1pt solid;\n",
              "}\n",
              "\n",
              "#sk-container-id-3 a.estimator_doc_link.fitted {\n",
              "  /* fitted */\n",
              "  border: var(--sklearn-color-fitted-level-1) 1pt solid;\n",
              "  color: var(--sklearn-color-fitted-level-1);\n",
              "}\n",
              "\n",
              "/* On hover */\n",
              "#sk-container-id-3 a.estimator_doc_link:hover {\n",
              "  /* unfitted */\n",
              "  background-color: var(--sklearn-color-unfitted-level-3);\n",
              "  color: var(--sklearn-color-background);\n",
              "  text-decoration: none;\n",
              "}\n",
              "\n",
              "#sk-container-id-3 a.estimator_doc_link.fitted:hover {\n",
              "  /* fitted */\n",
              "  background-color: var(--sklearn-color-fitted-level-3);\n",
              "}\n",
              "</style><div id=\"sk-container-id-3\" class=\"sk-top-container\"><div class=\"sk-text-repr-fallback\"><pre>RandomForestClassifier(criterion=&#x27;entropy&#x27;, max_features=&#x27;log2&#x27;,\n",
              "                       n_estimators=500)</pre><b>In a Jupyter environment, please rerun this cell to show the HTML representation or trust the notebook. <br />On GitHub, the HTML representation is unable to render, please try loading this page with nbviewer.org.</b></div><div class=\"sk-container\" hidden><div class=\"sk-item\"><div class=\"sk-estimator fitted sk-toggleable\"><input class=\"sk-toggleable__control sk-hidden--visually\" id=\"sk-estimator-id-3\" type=\"checkbox\" checked><label for=\"sk-estimator-id-3\" class=\"sk-toggleable__label fitted sk-toggleable__label-arrow\"><div><div>RandomForestClassifier</div></div><div><a class=\"sk-estimator-doc-link fitted\" rel=\"noreferrer\" target=\"_blank\" href=\"https://scikit-learn.org/1.6/modules/generated/sklearn.ensemble.RandomForestClassifier.html\">?<span>Documentation for RandomForestClassifier</span></a><span class=\"sk-estimator-doc-link fitted\">i<span>Fitted</span></span></div></label><div class=\"sk-toggleable__content fitted\"><pre>RandomForestClassifier(criterion=&#x27;entropy&#x27;, max_features=&#x27;log2&#x27;,\n",
              "                       n_estimators=500)</pre></div> </div></div></div></div>"
            ],
            "text/plain": [
              "RandomForestClassifier(criterion='entropy', max_features='log2',\n",
              "                       n_estimators=500)"
            ]
          },
          "execution_count": 150,
          "metadata": {},
          "output_type": "execute_result"
        }
      ],
      "source": [
        "rf.fit(X, y)"
      ]
    },
    {
      "cell_type": "code",
      "execution_count": null,
      "metadata": {
        "colab": {
          "base_uri": "https://localhost:8080/"
        },
        "id": "bqmt-sF9G6i-",
        "outputId": "8f089c7b-7dae-4f5a-e217-e78b6ae1808f"
      },
      "outputs": [
        {
          "data": {
            "text/plain": [
              "['heart_attack_model.pkl']"
            ]
          },
          "execution_count": 151,
          "metadata": {},
          "output_type": "execute_result"
        }
      ],
      "source": [
        "import joblib\n",
        "\n",
        "joblib.dump(rf, 'heart_attack_model.pkl')"
      ]
    },
    {
      "cell_type": "code",
      "execution_count": null,
      "metadata": {
        "colab": {
          "base_uri": "https://localhost:8080/",
          "height": 17
        },
        "id": "bOOIjpjnKFtE",
        "outputId": "ceb6117e-9f83-4dd7-ed6d-891d19e53574"
      },
      "outputs": [
        {
          "data": {
            "application/javascript": "\n    async function download(id, filename, size) {\n      if (!google.colab.kernel.accessAllowed) {\n        return;\n      }\n      const div = document.createElement('div');\n      const label = document.createElement('label');\n      label.textContent = `Downloading \"${filename}\": `;\n      div.appendChild(label);\n      const progress = document.createElement('progress');\n      progress.max = size;\n      div.appendChild(progress);\n      document.body.appendChild(div);\n\n      const buffers = [];\n      let downloaded = 0;\n\n      const channel = await google.colab.kernel.comms.open(id);\n      // Send a message to notify the kernel that we're ready.\n      channel.send({})\n\n      for await (const message of channel.messages) {\n        // Send a message to notify the kernel that we're ready.\n        channel.send({})\n        if (message.buffers) {\n          for (const buffer of message.buffers) {\n            buffers.push(buffer);\n            downloaded += buffer.byteLength;\n            progress.value = downloaded;\n          }\n        }\n      }\n      const blob = new Blob(buffers, {type: 'application/binary'});\n      const a = document.createElement('a');\n      a.href = window.URL.createObjectURL(blob);\n      a.download = filename;\n      div.appendChild(a);\n      a.click();\n      div.remove();\n    }\n  ",
            "text/plain": [
              "<IPython.core.display.Javascript object>"
            ]
          },
          "metadata": {},
          "output_type": "display_data"
        },
        {
          "data": {
            "application/javascript": "download(\"download_eda49faf-be22-4063-897b-0ae72ab3130a\", \"heart_attack_model.pkl\", 4182073)",
            "text/plain": [
              "<IPython.core.display.Javascript object>"
            ]
          },
          "metadata": {},
          "output_type": "display_data"
        }
      ],
      "source": [
        "from google.colab import files\n",
        "files.download('heart_attack_model.pkl')"
      ]
    },
    {
      "cell_type": "code",
      "execution_count": null,
      "metadata": {
        "colab": {
          "base_uri": "https://localhost:8080/"
        },
        "id": "tU9Amhs1SlfA",
        "outputId": "3c01fb66-cb9f-4766-9db5-dbee50529d88"
      },
      "outputs": [
        {
          "name": "stdout",
          "output_type": "stream",
          "text": [
            "Prediction: ['Presence of Heart Disease']\n",
            "Confidence (class 1): 0.936\n"
          ]
        }
      ],
      "source": [
        "test_data = np.array([[62, 1, 3, 150, 280, 1, 2, 110, 1, 3.5, 2, 3, 2]])\n",
        "print(\"Prediction:\", rf.predict(test_data))\n",
        "print(\"Confidence (class 1):\", rf.predict_proba(test_data)[0][1])"
      ]
    }
  ],
  "metadata": {
    "colab": {
      "provenance": []
    },
    "kernelspec": {
      "display_name": "Python 3",
      "name": "python3"
    },
    "language_info": {
      "name": "python"
    }
  },
  "nbformat": 4,
  "nbformat_minor": 0
}
